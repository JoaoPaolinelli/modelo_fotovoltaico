{
  "nbformat": 4,
  "nbformat_minor": 0,
  "metadata": {
    "colab": {
      "provenance": [],
      "mount_file_id": "15s3XbKPZkgvaEPPmXjuK7jBQ_jCKLLgx",
      "authorship_tag": "ABX9TyOT5WIZ0O1FEgXkwucewARj",
      "include_colab_link": true
    },
    "kernelspec": {
      "name": "python3",
      "display_name": "Python 3"
    },
    "language_info": {
      "name": "python"
    }
  },
  "cells": [
    {
      "cell_type": "markdown",
      "metadata": {
        "id": "view-in-github",
        "colab_type": "text"
      },
      "source": [
        "<a href=\"https://colab.research.google.com/github/JoaoPaolinelli/modelo_fotovoltaico/blob/main/fotovotaicav2.ipynb\" target=\"_parent\"><img src=\"https://colab.research.google.com/assets/colab-badge.svg\" alt=\"Open In Colab\"/></a>"
      ]
    },
    {
      "cell_type": "code",
      "execution_count": null,
      "metadata": {
        "id": "GOzsQ5wp7911",
        "colab": {
          "base_uri": "https://localhost:8080/"
        },
        "outputId": "b9695734-a46d-4773-ef9c-940a56c828e8"
      },
      "outputs": [
        {
          "output_type": "stream",
          "name": "stdout",
          "text": [
            "Collecting ultralytics\n",
            "  Downloading ultralytics-8.3.88-py3-none-any.whl.metadata (35 kB)\n",
            "Requirement already satisfied: numpy<=2.1.1,>=1.23.0 in /usr/local/lib/python3.11/dist-packages (from ultralytics) (1.26.4)\n",
            "Requirement already satisfied: matplotlib>=3.3.0 in /usr/local/lib/python3.11/dist-packages (from ultralytics) (3.10.0)\n",
            "Requirement already satisfied: opencv-python>=4.6.0 in /usr/local/lib/python3.11/dist-packages (from ultralytics) (4.11.0.86)\n",
            "Requirement already satisfied: pillow>=7.1.2 in /usr/local/lib/python3.11/dist-packages (from ultralytics) (11.1.0)\n",
            "Requirement already satisfied: pyyaml>=5.3.1 in /usr/local/lib/python3.11/dist-packages (from ultralytics) (6.0.2)\n",
            "Requirement already satisfied: requests>=2.23.0 in /usr/local/lib/python3.11/dist-packages (from ultralytics) (2.32.3)\n",
            "Requirement already satisfied: scipy>=1.4.1 in /usr/local/lib/python3.11/dist-packages (from ultralytics) (1.14.1)\n",
            "Requirement already satisfied: torch>=1.8.0 in /usr/local/lib/python3.11/dist-packages (from ultralytics) (2.5.1+cu124)\n",
            "Requirement already satisfied: torchvision>=0.9.0 in /usr/local/lib/python3.11/dist-packages (from ultralytics) (0.20.1+cu124)\n",
            "Requirement already satisfied: tqdm>=4.64.0 in /usr/local/lib/python3.11/dist-packages (from ultralytics) (4.67.1)\n",
            "Requirement already satisfied: psutil in /usr/local/lib/python3.11/dist-packages (from ultralytics) (5.9.5)\n",
            "Requirement already satisfied: py-cpuinfo in /usr/local/lib/python3.11/dist-packages (from ultralytics) (9.0.0)\n",
            "Requirement already satisfied: pandas>=1.1.4 in /usr/local/lib/python3.11/dist-packages (from ultralytics) (2.2.2)\n",
            "Requirement already satisfied: seaborn>=0.11.0 in /usr/local/lib/python3.11/dist-packages (from ultralytics) (0.13.2)\n",
            "Collecting ultralytics-thop>=2.0.0 (from ultralytics)\n",
            "  Downloading ultralytics_thop-2.0.14-py3-none-any.whl.metadata (9.4 kB)\n",
            "Requirement already satisfied: contourpy>=1.0.1 in /usr/local/lib/python3.11/dist-packages (from matplotlib>=3.3.0->ultralytics) (1.3.1)\n",
            "Requirement already satisfied: cycler>=0.10 in /usr/local/lib/python3.11/dist-packages (from matplotlib>=3.3.0->ultralytics) (0.12.1)\n",
            "Requirement already satisfied: fonttools>=4.22.0 in /usr/local/lib/python3.11/dist-packages (from matplotlib>=3.3.0->ultralytics) (4.56.0)\n",
            "Requirement already satisfied: kiwisolver>=1.3.1 in /usr/local/lib/python3.11/dist-packages (from matplotlib>=3.3.0->ultralytics) (1.4.8)\n",
            "Requirement already satisfied: packaging>=20.0 in /usr/local/lib/python3.11/dist-packages (from matplotlib>=3.3.0->ultralytics) (24.2)\n",
            "Requirement already satisfied: pyparsing>=2.3.1 in /usr/local/lib/python3.11/dist-packages (from matplotlib>=3.3.0->ultralytics) (3.2.1)\n",
            "Requirement already satisfied: python-dateutil>=2.7 in /usr/local/lib/python3.11/dist-packages (from matplotlib>=3.3.0->ultralytics) (2.8.2)\n",
            "Requirement already satisfied: pytz>=2020.1 in /usr/local/lib/python3.11/dist-packages (from pandas>=1.1.4->ultralytics) (2025.1)\n",
            "Requirement already satisfied: tzdata>=2022.7 in /usr/local/lib/python3.11/dist-packages (from pandas>=1.1.4->ultralytics) (2025.1)\n",
            "Requirement already satisfied: charset-normalizer<4,>=2 in /usr/local/lib/python3.11/dist-packages (from requests>=2.23.0->ultralytics) (3.4.1)\n",
            "Requirement already satisfied: idna<4,>=2.5 in /usr/local/lib/python3.11/dist-packages (from requests>=2.23.0->ultralytics) (3.10)\n",
            "Requirement already satisfied: urllib3<3,>=1.21.1 in /usr/local/lib/python3.11/dist-packages (from requests>=2.23.0->ultralytics) (2.3.0)\n",
            "Requirement already satisfied: certifi>=2017.4.17 in /usr/local/lib/python3.11/dist-packages (from requests>=2.23.0->ultralytics) (2025.1.31)\n",
            "Requirement already satisfied: filelock in /usr/local/lib/python3.11/dist-packages (from torch>=1.8.0->ultralytics) (3.17.0)\n",
            "Requirement already satisfied: typing-extensions>=4.8.0 in /usr/local/lib/python3.11/dist-packages (from torch>=1.8.0->ultralytics) (4.12.2)\n",
            "Requirement already satisfied: networkx in /usr/local/lib/python3.11/dist-packages (from torch>=1.8.0->ultralytics) (3.4.2)\n",
            "Requirement already satisfied: jinja2 in /usr/local/lib/python3.11/dist-packages (from torch>=1.8.0->ultralytics) (3.1.6)\n",
            "Requirement already satisfied: fsspec in /usr/local/lib/python3.11/dist-packages (from torch>=1.8.0->ultralytics) (2024.10.0)\n",
            "Collecting nvidia-cuda-nvrtc-cu12==12.4.127 (from torch>=1.8.0->ultralytics)\n",
            "  Downloading nvidia_cuda_nvrtc_cu12-12.4.127-py3-none-manylinux2014_x86_64.whl.metadata (1.5 kB)\n",
            "Collecting nvidia-cuda-runtime-cu12==12.4.127 (from torch>=1.8.0->ultralytics)\n",
            "  Downloading nvidia_cuda_runtime_cu12-12.4.127-py3-none-manylinux2014_x86_64.whl.metadata (1.5 kB)\n",
            "Collecting nvidia-cuda-cupti-cu12==12.4.127 (from torch>=1.8.0->ultralytics)\n",
            "  Downloading nvidia_cuda_cupti_cu12-12.4.127-py3-none-manylinux2014_x86_64.whl.metadata (1.6 kB)\n",
            "Collecting nvidia-cudnn-cu12==9.1.0.70 (from torch>=1.8.0->ultralytics)\n",
            "  Downloading nvidia_cudnn_cu12-9.1.0.70-py3-none-manylinux2014_x86_64.whl.metadata (1.6 kB)\n",
            "Collecting nvidia-cublas-cu12==12.4.5.8 (from torch>=1.8.0->ultralytics)\n",
            "  Downloading nvidia_cublas_cu12-12.4.5.8-py3-none-manylinux2014_x86_64.whl.metadata (1.5 kB)\n",
            "Collecting nvidia-cufft-cu12==11.2.1.3 (from torch>=1.8.0->ultralytics)\n",
            "  Downloading nvidia_cufft_cu12-11.2.1.3-py3-none-manylinux2014_x86_64.whl.metadata (1.5 kB)\n",
            "Collecting nvidia-curand-cu12==10.3.5.147 (from torch>=1.8.0->ultralytics)\n",
            "  Downloading nvidia_curand_cu12-10.3.5.147-py3-none-manylinux2014_x86_64.whl.metadata (1.5 kB)\n",
            "Collecting nvidia-cusolver-cu12==11.6.1.9 (from torch>=1.8.0->ultralytics)\n",
            "  Downloading nvidia_cusolver_cu12-11.6.1.9-py3-none-manylinux2014_x86_64.whl.metadata (1.6 kB)\n",
            "Collecting nvidia-cusparse-cu12==12.3.1.170 (from torch>=1.8.0->ultralytics)\n",
            "  Downloading nvidia_cusparse_cu12-12.3.1.170-py3-none-manylinux2014_x86_64.whl.metadata (1.6 kB)\n",
            "Requirement already satisfied: nvidia-nccl-cu12==2.21.5 in /usr/local/lib/python3.11/dist-packages (from torch>=1.8.0->ultralytics) (2.21.5)\n",
            "Requirement already satisfied: nvidia-nvtx-cu12==12.4.127 in /usr/local/lib/python3.11/dist-packages (from torch>=1.8.0->ultralytics) (12.4.127)\n",
            "Collecting nvidia-nvjitlink-cu12==12.4.127 (from torch>=1.8.0->ultralytics)\n",
            "  Downloading nvidia_nvjitlink_cu12-12.4.127-py3-none-manylinux2014_x86_64.whl.metadata (1.5 kB)\n",
            "Requirement already satisfied: triton==3.1.0 in /usr/local/lib/python3.11/dist-packages (from torch>=1.8.0->ultralytics) (3.1.0)\n",
            "Requirement already satisfied: sympy==1.13.1 in /usr/local/lib/python3.11/dist-packages (from torch>=1.8.0->ultralytics) (1.13.1)\n",
            "Requirement already satisfied: mpmath<1.4,>=1.1.0 in /usr/local/lib/python3.11/dist-packages (from sympy==1.13.1->torch>=1.8.0->ultralytics) (1.3.0)\n",
            "Requirement already satisfied: six>=1.5 in /usr/local/lib/python3.11/dist-packages (from python-dateutil>=2.7->matplotlib>=3.3.0->ultralytics) (1.17.0)\n",
            "Requirement already satisfied: MarkupSafe>=2.0 in /usr/local/lib/python3.11/dist-packages (from jinja2->torch>=1.8.0->ultralytics) (3.0.2)\n",
            "Downloading ultralytics-8.3.88-py3-none-any.whl (932 kB)\n",
            "\u001b[2K   \u001b[90m━━━━━━━━━━━━━━━━━━━━━━━━━━━━━━━━━━━━━━━━\u001b[0m \u001b[32m932.9/932.9 kB\u001b[0m \u001b[31m14.5 MB/s\u001b[0m eta \u001b[36m0:00:00\u001b[0m\n",
            "\u001b[?25hDownloading nvidia_cublas_cu12-12.4.5.8-py3-none-manylinux2014_x86_64.whl (363.4 MB)\n",
            "\u001b[2K   \u001b[90m━━━━━━━━━━━━━━━━━━━━━━━━━━━━━━━━━━━━━━━━\u001b[0m \u001b[32m363.4/363.4 MB\u001b[0m \u001b[31m4.5 MB/s\u001b[0m eta \u001b[36m0:00:00\u001b[0m\n",
            "\u001b[?25hDownloading nvidia_cuda_cupti_cu12-12.4.127-py3-none-manylinux2014_x86_64.whl (13.8 MB)\n",
            "\u001b[2K   \u001b[90m━━━━━━━━━━━━━━━━━━━━━━━━━━━━━━━━━━━━━━━━\u001b[0m \u001b[32m13.8/13.8 MB\u001b[0m \u001b[31m88.8 MB/s\u001b[0m eta \u001b[36m0:00:00\u001b[0m\n",
            "\u001b[?25hDownloading nvidia_cuda_nvrtc_cu12-12.4.127-py3-none-manylinux2014_x86_64.whl (24.6 MB)\n",
            "\u001b[2K   \u001b[90m━━━━━━━━━━━━━━━━━━━━━━━━━━━━━━━━━━━━━━━━\u001b[0m \u001b[32m24.6/24.6 MB\u001b[0m \u001b[31m70.3 MB/s\u001b[0m eta \u001b[36m0:00:00\u001b[0m\n",
            "\u001b[?25hDownloading nvidia_cuda_runtime_cu12-12.4.127-py3-none-manylinux2014_x86_64.whl (883 kB)\n",
            "\u001b[2K   \u001b[90m━━━━━━━━━━━━━━━━━━━━━━━━━━━━━━━━━━━━━━━━\u001b[0m \u001b[32m883.7/883.7 kB\u001b[0m \u001b[31m42.6 MB/s\u001b[0m eta \u001b[36m0:00:00\u001b[0m\n",
            "\u001b[?25hDownloading nvidia_cudnn_cu12-9.1.0.70-py3-none-manylinux2014_x86_64.whl (664.8 MB)\n",
            "\u001b[2K   \u001b[90m━━━━━━━━━━━━━━━━━━━━━━━━━━━━━━━━━━━━━━━━\u001b[0m \u001b[32m664.8/664.8 MB\u001b[0m \u001b[31m1.4 MB/s\u001b[0m eta \u001b[36m0:00:00\u001b[0m\n",
            "\u001b[?25hDownloading nvidia_cufft_cu12-11.2.1.3-py3-none-manylinux2014_x86_64.whl (211.5 MB)\n",
            "\u001b[2K   \u001b[90m━━━━━━━━━━━━━━━━━━━━━━━━━━━━━━━━━━━━━━━━\u001b[0m \u001b[32m211.5/211.5 MB\u001b[0m \u001b[31m4.6 MB/s\u001b[0m eta \u001b[36m0:00:00\u001b[0m\n",
            "\u001b[?25hDownloading nvidia_curand_cu12-10.3.5.147-py3-none-manylinux2014_x86_64.whl (56.3 MB)\n",
            "\u001b[2K   \u001b[90m━━━━━━━━━━━━━━━━━━━━━━━━━━━━━━━━━━━━━━━━\u001b[0m \u001b[32m56.3/56.3 MB\u001b[0m \u001b[31m8.6 MB/s\u001b[0m eta \u001b[36m0:00:00\u001b[0m\n",
            "\u001b[?25hDownloading nvidia_cusolver_cu12-11.6.1.9-py3-none-manylinux2014_x86_64.whl (127.9 MB)\n",
            "\u001b[2K   \u001b[90m━━━━━━━━━━━━━━━━━━━━━━━━━━━━━━━━━━━━━━━━\u001b[0m \u001b[32m127.9/127.9 MB\u001b[0m \u001b[31m7.2 MB/s\u001b[0m eta \u001b[36m0:00:00\u001b[0m\n",
            "\u001b[?25hDownloading nvidia_cusparse_cu12-12.3.1.170-py3-none-manylinux2014_x86_64.whl (207.5 MB)\n",
            "\u001b[2K   \u001b[90m━━━━━━━━━━━━━━━━━━━━━━━━━━━━━━━━━━━━━━━━\u001b[0m \u001b[32m207.5/207.5 MB\u001b[0m \u001b[31m5.7 MB/s\u001b[0m eta \u001b[36m0:00:00\u001b[0m\n",
            "\u001b[?25hDownloading nvidia_nvjitlink_cu12-12.4.127-py3-none-manylinux2014_x86_64.whl (21.1 MB)\n",
            "\u001b[2K   \u001b[90m━━━━━━━━━━━━━━━━━━━━━━━━━━━━━━━━━━━━━━━━\u001b[0m \u001b[32m21.1/21.1 MB\u001b[0m \u001b[31m30.3 MB/s\u001b[0m eta \u001b[36m0:00:00\u001b[0m\n",
            "\u001b[?25hDownloading ultralytics_thop-2.0.14-py3-none-any.whl (26 kB)\n",
            "Installing collected packages: nvidia-nvjitlink-cu12, nvidia-curand-cu12, nvidia-cufft-cu12, nvidia-cuda-runtime-cu12, nvidia-cuda-nvrtc-cu12, nvidia-cuda-cupti-cu12, nvidia-cublas-cu12, nvidia-cusparse-cu12, nvidia-cudnn-cu12, nvidia-cusolver-cu12, ultralytics-thop, ultralytics\n",
            "  Attempting uninstall: nvidia-nvjitlink-cu12\n",
            "    Found existing installation: nvidia-nvjitlink-cu12 12.5.82\n",
            "    Uninstalling nvidia-nvjitlink-cu12-12.5.82:\n",
            "      Successfully uninstalled nvidia-nvjitlink-cu12-12.5.82\n",
            "  Attempting uninstall: nvidia-curand-cu12\n",
            "    Found existing installation: nvidia-curand-cu12 10.3.6.82\n",
            "    Uninstalling nvidia-curand-cu12-10.3.6.82:\n",
            "      Successfully uninstalled nvidia-curand-cu12-10.3.6.82\n",
            "  Attempting uninstall: nvidia-cufft-cu12\n",
            "    Found existing installation: nvidia-cufft-cu12 11.2.3.61\n",
            "    Uninstalling nvidia-cufft-cu12-11.2.3.61:\n",
            "      Successfully uninstalled nvidia-cufft-cu12-11.2.3.61\n",
            "  Attempting uninstall: nvidia-cuda-runtime-cu12\n",
            "    Found existing installation: nvidia-cuda-runtime-cu12 12.5.82\n",
            "    Uninstalling nvidia-cuda-runtime-cu12-12.5.82:\n",
            "      Successfully uninstalled nvidia-cuda-runtime-cu12-12.5.82\n",
            "  Attempting uninstall: nvidia-cuda-nvrtc-cu12\n",
            "    Found existing installation: nvidia-cuda-nvrtc-cu12 12.5.82\n",
            "    Uninstalling nvidia-cuda-nvrtc-cu12-12.5.82:\n",
            "      Successfully uninstalled nvidia-cuda-nvrtc-cu12-12.5.82\n",
            "  Attempting uninstall: nvidia-cuda-cupti-cu12\n",
            "    Found existing installation: nvidia-cuda-cupti-cu12 12.5.82\n",
            "    Uninstalling nvidia-cuda-cupti-cu12-12.5.82:\n",
            "      Successfully uninstalled nvidia-cuda-cupti-cu12-12.5.82\n",
            "  Attempting uninstall: nvidia-cublas-cu12\n",
            "    Found existing installation: nvidia-cublas-cu12 12.5.3.2\n",
            "    Uninstalling nvidia-cublas-cu12-12.5.3.2:\n",
            "      Successfully uninstalled nvidia-cublas-cu12-12.5.3.2\n",
            "  Attempting uninstall: nvidia-cusparse-cu12\n",
            "    Found existing installation: nvidia-cusparse-cu12 12.5.1.3\n",
            "    Uninstalling nvidia-cusparse-cu12-12.5.1.3:\n",
            "      Successfully uninstalled nvidia-cusparse-cu12-12.5.1.3\n",
            "  Attempting uninstall: nvidia-cudnn-cu12\n",
            "    Found existing installation: nvidia-cudnn-cu12 9.3.0.75\n",
            "    Uninstalling nvidia-cudnn-cu12-9.3.0.75:\n",
            "      Successfully uninstalled nvidia-cudnn-cu12-9.3.0.75\n",
            "  Attempting uninstall: nvidia-cusolver-cu12\n",
            "    Found existing installation: nvidia-cusolver-cu12 11.6.3.83\n",
            "    Uninstalling nvidia-cusolver-cu12-11.6.3.83:\n",
            "      Successfully uninstalled nvidia-cusolver-cu12-11.6.3.83\n",
            "Successfully installed nvidia-cublas-cu12-12.4.5.8 nvidia-cuda-cupti-cu12-12.4.127 nvidia-cuda-nvrtc-cu12-12.4.127 nvidia-cuda-runtime-cu12-12.4.127 nvidia-cudnn-cu12-9.1.0.70 nvidia-cufft-cu12-11.2.1.3 nvidia-curand-cu12-10.3.5.147 nvidia-cusolver-cu12-11.6.1.9 nvidia-cusparse-cu12-12.3.1.170 nvidia-nvjitlink-cu12-12.4.127 ultralytics-8.3.88 ultralytics-thop-2.0.14\n"
          ]
        }
      ],
      "source": [
        "pip install ultralytics\n"
      ]
    },
    {
      "cell_type": "code",
      "source": [
        "import os\n",
        "\n",
        "paths = [\n",
        "    \"/content/sample_data/dataset/images/train\",\n",
        "    \"/content/sample_data/dataset/images/val\",\n",
        "    \"/content/sample_data/dataset/labels/train\",\n",
        "    \"/content/sample_data/dataset/labels/val\",\n",
        "    \"/content/data.yaml\"\n",
        "]\n",
        "\n",
        "for path in paths:\n",
        "    if os.path.exists(path):\n",
        "        print(f\"✅ Pasta encontrada: {path}\")\n",
        "    else:\n",
        "        print(f\"❌ ERRO: Pasta NÃO encontrada: {path}\")"
      ],
      "metadata": {
        "colab": {
          "base_uri": "https://localhost:8080/"
        },
        "id": "4VN-a4wIzRj7",
        "outputId": "cc9f067c-ac57-4551-f720-c76809734ab2"
      },
      "execution_count": null,
      "outputs": [
        {
          "output_type": "stream",
          "name": "stdout",
          "text": [
            "✅ Pasta encontrada: /content/sample_data/dataset/images/train\n",
            "✅ Pasta encontrada: /content/sample_data/dataset/images/val\n",
            "✅ Pasta encontrada: /content/sample_data/dataset/labels/train\n",
            "✅ Pasta encontrada: /content/sample_data/dataset/labels/val\n",
            "❌ ERRO: Pasta NÃO encontrada: /content/data.yaml\n"
          ]
        }
      ]
    },
    {
      "cell_type": "code",
      "source": [
        "from ultralytics import YOLO\n",
        "import IPython.display as display\n",
        "from PIL import Image\n",
        "import glob\n",
        "\n",
        "# Carregar o modelo YOLOv8 pré-treinado\n",
        "model = YOLO('yolov8n.pt')\n",
        "\n",
        "# Iniciar o treinamento\n",
        "model.train(data=\"/content/sample_data/data.yaml\", epochs=100, imgsz=640)\n",
        "\n",
        "\n",
        "# Exibir todas as imagens detectadas\n",
        "for img_path in glob.glob(\"/content/runs/detect/predict/*.jpg\"):\n",
        "    display.display(Image.open(img_path))\n"
      ],
      "metadata": {
        "colab": {
          "base_uri": "https://localhost:8080/"
        },
        "id": "SzF5CK6WvwVh",
        "outputId": "0d634486-8f6d-48f8-c911-6988b02ab1ee"
      },
      "execution_count": null,
      "outputs": [
        {
          "output_type": "stream",
          "name": "stdout",
          "text": [
            "Ultralytics 8.3.88 🚀 Python-3.11.11 torch-2.5.1+cu124 CPU (Intel Xeon 2.20GHz)\n",
            "\u001b[34m\u001b[1mengine/trainer: \u001b[0mtask=detect, mode=train, model=yolov8n.pt, data=/content/sample_data/data.yaml, epochs=100, time=None, patience=100, batch=16, imgsz=640, save=True, save_period=-1, cache=False, device=None, workers=8, project=None, name=train2, exist_ok=False, pretrained=True, optimizer=auto, verbose=True, seed=0, deterministic=True, single_cls=False, rect=False, cos_lr=False, close_mosaic=10, resume=False, amp=True, fraction=1.0, profile=False, freeze=None, multi_scale=False, overlap_mask=True, mask_ratio=4, dropout=0.0, val=True, split=val, save_json=False, save_hybrid=False, conf=None, iou=0.7, max_det=300, half=False, dnn=False, plots=True, source=None, vid_stride=1, stream_buffer=False, visualize=False, augment=False, agnostic_nms=False, classes=None, retina_masks=False, embed=None, show=False, save_frames=False, save_txt=False, save_conf=False, save_crop=False, show_labels=True, show_conf=True, show_boxes=True, line_width=None, format=torchscript, keras=False, optimize=False, int8=False, dynamic=False, simplify=True, opset=None, workspace=None, nms=False, lr0=0.01, lrf=0.01, momentum=0.937, weight_decay=0.0005, warmup_epochs=3.0, warmup_momentum=0.8, warmup_bias_lr=0.1, box=7.5, cls=0.5, dfl=1.5, pose=12.0, kobj=1.0, nbs=64, hsv_h=0.015, hsv_s=0.7, hsv_v=0.4, degrees=0.0, translate=0.1, scale=0.5, shear=0.0, perspective=0.0, flipud=0.0, fliplr=0.5, bgr=0.0, mosaic=1.0, mixup=0.0, copy_paste=0.0, copy_paste_mode=flip, auto_augment=randaugment, erasing=0.4, crop_fraction=1.0, cfg=None, tracker=botsort.yaml, save_dir=runs/detect/train2\n",
            "Downloading https://ultralytics.com/assets/Arial.ttf to '/root/.config/Ultralytics/Arial.ttf'...\n"
          ]
        },
        {
          "output_type": "stream",
          "name": "stderr",
          "text": [
            "100%|██████████| 755k/755k [00:00<00:00, 4.11MB/s]\n"
          ]
        },
        {
          "output_type": "stream",
          "name": "stdout",
          "text": [
            "Overriding model.yaml nc=80 with nc=2\n",
            "\n",
            "                   from  n    params  module                                       arguments                     \n",
            "  0                  -1  1       464  ultralytics.nn.modules.conv.Conv             [3, 16, 3, 2]                 \n",
            "  1                  -1  1      4672  ultralytics.nn.modules.conv.Conv             [16, 32, 3, 2]                \n",
            "  2                  -1  1      7360  ultralytics.nn.modules.block.C2f             [32, 32, 1, True]             \n",
            "  3                  -1  1     18560  ultralytics.nn.modules.conv.Conv             [32, 64, 3, 2]                \n",
            "  4                  -1  2     49664  ultralytics.nn.modules.block.C2f             [64, 64, 2, True]             \n",
            "  5                  -1  1     73984  ultralytics.nn.modules.conv.Conv             [64, 128, 3, 2]               \n",
            "  6                  -1  2    197632  ultralytics.nn.modules.block.C2f             [128, 128, 2, True]           \n",
            "  7                  -1  1    295424  ultralytics.nn.modules.conv.Conv             [128, 256, 3, 2]              \n",
            "  8                  -1  1    460288  ultralytics.nn.modules.block.C2f             [256, 256, 1, True]           \n",
            "  9                  -1  1    164608  ultralytics.nn.modules.block.SPPF            [256, 256, 5]                 \n",
            " 10                  -1  1         0  torch.nn.modules.upsampling.Upsample         [None, 2, 'nearest']          \n",
            " 11             [-1, 6]  1         0  ultralytics.nn.modules.conv.Concat           [1]                           \n",
            " 12                  -1  1    148224  ultralytics.nn.modules.block.C2f             [384, 128, 1]                 \n",
            " 13                  -1  1         0  torch.nn.modules.upsampling.Upsample         [None, 2, 'nearest']          \n",
            " 14             [-1, 4]  1         0  ultralytics.nn.modules.conv.Concat           [1]                           \n",
            " 15                  -1  1     37248  ultralytics.nn.modules.block.C2f             [192, 64, 1]                  \n",
            " 16                  -1  1     36992  ultralytics.nn.modules.conv.Conv             [64, 64, 3, 2]                \n",
            " 17            [-1, 12]  1         0  ultralytics.nn.modules.conv.Concat           [1]                           \n",
            " 18                  -1  1    123648  ultralytics.nn.modules.block.C2f             [192, 128, 1]                 \n",
            " 19                  -1  1    147712  ultralytics.nn.modules.conv.Conv             [128, 128, 3, 2]              \n",
            " 20             [-1, 9]  1         0  ultralytics.nn.modules.conv.Concat           [1]                           \n",
            " 21                  -1  1    493056  ultralytics.nn.modules.block.C2f             [384, 256, 1]                 \n",
            " 22        [15, 18, 21]  1    751702  ultralytics.nn.modules.head.Detect           [2, [64, 128, 256]]           \n",
            "Model summary: 129 layers, 3,011,238 parameters, 3,011,222 gradients, 8.2 GFLOPs\n",
            "\n",
            "Transferred 319/355 items from pretrained weights\n",
            "\u001b[34m\u001b[1mTensorBoard: \u001b[0mStart with 'tensorboard --logdir runs/detect/train2', view at http://localhost:6006/\n",
            "Freezing layer 'model.22.dfl.conv.weight'\n"
          ]
        },
        {
          "output_type": "stream",
          "name": "stderr",
          "text": [
            "\u001b[34m\u001b[1mtrain: \u001b[0mScanning /content/sample_data/dataset/labels/train... 95 images, 4 backgrounds, 0 corrupt: 100%|██████████| 99/99 [00:00<00:00, 730.98it/s]"
          ]
        },
        {
          "output_type": "stream",
          "name": "stdout",
          "text": [
            "\u001b[34m\u001b[1mtrain: \u001b[0mNew cache created: /content/sample_data/dataset/labels/train.cache\n"
          ]
        },
        {
          "output_type": "stream",
          "name": "stderr",
          "text": [
            "\n"
          ]
        },
        {
          "output_type": "stream",
          "name": "stdout",
          "text": [
            "\u001b[34m\u001b[1malbumentations: \u001b[0mBlur(p=0.01, blur_limit=(3, 7)), MedianBlur(p=0.01, blur_limit=(3, 7)), ToGray(p=0.01, num_output_channels=3, method='weighted_average'), CLAHE(p=0.01, clip_limit=(1.0, 4.0), tile_grid_size=(8, 8))\n"
          ]
        },
        {
          "output_type": "stream",
          "name": "stderr",
          "text": [
            "\u001b[34m\u001b[1mval: \u001b[0mScanning /content/sample_data/dataset/labels/val... 100 images, 5 backgrounds, 0 corrupt: 100%|██████████| 105/105 [00:00<00:00, 1676.44it/s]"
          ]
        },
        {
          "output_type": "stream",
          "name": "stdout",
          "text": [
            "\u001b[34m\u001b[1mval: \u001b[0mNew cache created: /content/sample_data/dataset/labels/val.cache\n"
          ]
        },
        {
          "output_type": "stream",
          "name": "stderr",
          "text": [
            "\n"
          ]
        },
        {
          "output_type": "stream",
          "name": "stdout",
          "text": [
            "Plotting labels to runs/detect/train2/labels.jpg... \n",
            "\u001b[34m\u001b[1moptimizer:\u001b[0m 'optimizer=auto' found, ignoring 'lr0=0.01' and 'momentum=0.937' and determining best 'optimizer', 'lr0' and 'momentum' automatically... \n",
            "\u001b[34m\u001b[1moptimizer:\u001b[0m AdamW(lr=0.001667, momentum=0.9) with parameter groups 57 weight(decay=0.0), 64 weight(decay=0.0005), 63 bias(decay=0.0)\n",
            "\u001b[34m\u001b[1mTensorBoard: \u001b[0mmodel graph visualization added ✅\n",
            "Image sizes 640 train, 640 val\n",
            "Using 0 dataloader workers\n",
            "Logging results to \u001b[1mruns/detect/train2\u001b[0m\n",
            "Starting training for 100 epochs...\n",
            "\n",
            "      Epoch    GPU_mem   box_loss   cls_loss   dfl_loss  Instances       Size\n"
          ]
        },
        {
          "output_type": "stream",
          "name": "stderr",
          "text": [
            "      1/100         0G      2.067      3.435       1.84        162        640: 100%|██████████| 7/7 [02:09<00:00, 18.49s/it]\n",
            "                 Class     Images  Instances      Box(P          R      mAP50  mAP50-95): 100%|██████████| 4/4 [00:46<00:00, 11.58s/it]"
          ]
        },
        {
          "output_type": "stream",
          "name": "stdout",
          "text": [
            "                   all        105       1393     0.0156        0.5     0.0509     0.0231\n"
          ]
        },
        {
          "output_type": "stream",
          "name": "stderr",
          "text": [
            "\n"
          ]
        },
        {
          "output_type": "stream",
          "name": "stdout",
          "text": [
            "\n",
            "      Epoch    GPU_mem   box_loss   cls_loss   dfl_loss  Instances       Size\n"
          ]
        },
        {
          "output_type": "stream",
          "name": "stderr",
          "text": [
            "      2/100         0G      1.709      3.069      1.682         44        640: 100%|██████████| 7/7 [01:43<00:00, 14.76s/it]\n",
            "                 Class     Images  Instances      Box(P          R      mAP50  mAP50-95): 100%|██████████| 4/4 [00:45<00:00, 11.34s/it]"
          ]
        },
        {
          "output_type": "stream",
          "name": "stdout",
          "text": [
            "                   all        105       1393     0.0182      0.578     0.0656     0.0296\n"
          ]
        },
        {
          "output_type": "stream",
          "name": "stderr",
          "text": [
            "\n"
          ]
        },
        {
          "output_type": "stream",
          "name": "stdout",
          "text": [
            "\n",
            "      Epoch    GPU_mem   box_loss   cls_loss   dfl_loss  Instances       Size\n"
          ]
        },
        {
          "output_type": "stream",
          "name": "stderr",
          "text": [
            "      3/100         0G      1.657      2.416      1.515        202        640: 100%|██████████| 7/7 [01:54<00:00, 16.40s/it]\n",
            "                 Class     Images  Instances      Box(P          R      mAP50  mAP50-95): 100%|██████████| 4/4 [00:46<00:00, 11.59s/it]"
          ]
        },
        {
          "output_type": "stream",
          "name": "stdout",
          "text": [
            "                   all        105       1393     0.0205      0.631      0.134     0.0719\n"
          ]
        },
        {
          "output_type": "stream",
          "name": "stderr",
          "text": [
            "\n"
          ]
        },
        {
          "output_type": "stream",
          "name": "stdout",
          "text": [
            "\n",
            "      Epoch    GPU_mem   box_loss   cls_loss   dfl_loss  Instances       Size\n"
          ]
        },
        {
          "output_type": "stream",
          "name": "stderr",
          "text": [
            "      4/100         0G      1.692      2.014      1.593         33        640: 100%|██████████| 7/7 [01:46<00:00, 15.17s/it]\n",
            "                 Class     Images  Instances      Box(P          R      mAP50  mAP50-95): 100%|██████████| 4/4 [00:45<00:00, 11.35s/it]"
          ]
        },
        {
          "output_type": "stream",
          "name": "stdout",
          "text": [
            "                   all        105       1393      0.144      0.436      0.139     0.0755\n"
          ]
        },
        {
          "output_type": "stream",
          "name": "stderr",
          "text": [
            "\n"
          ]
        },
        {
          "output_type": "stream",
          "name": "stdout",
          "text": [
            "\n",
            "      Epoch    GPU_mem   box_loss   cls_loss   dfl_loss  Instances       Size\n"
          ]
        },
        {
          "output_type": "stream",
          "name": "stderr",
          "text": [
            "      5/100         0G      1.662      1.789      1.488        124        640: 100%|██████████| 7/7 [01:48<00:00, 15.48s/it]\n",
            "                 Class     Images  Instances      Box(P          R      mAP50  mAP50-95): 100%|██████████| 4/4 [00:42<00:00, 10.71s/it]"
          ]
        },
        {
          "output_type": "stream",
          "name": "stdout",
          "text": [
            "                   all        105       1393      0.424      0.139      0.225      0.123\n"
          ]
        },
        {
          "output_type": "stream",
          "name": "stderr",
          "text": [
            "\n"
          ]
        },
        {
          "output_type": "stream",
          "name": "stdout",
          "text": [
            "\n",
            "      Epoch    GPU_mem   box_loss   cls_loss   dfl_loss  Instances       Size\n"
          ]
        },
        {
          "output_type": "stream",
          "name": "stderr",
          "text": [
            "      6/100         0G      1.589      1.813      1.525         49        640: 100%|██████████| 7/7 [01:37<00:00, 13.89s/it]\n",
            "                 Class     Images  Instances      Box(P          R      mAP50  mAP50-95): 100%|██████████| 4/4 [00:45<00:00, 11.47s/it]"
          ]
        },
        {
          "output_type": "stream",
          "name": "stdout",
          "text": [
            "                   all        105       1393      0.511      0.247      0.318      0.185\n"
          ]
        },
        {
          "output_type": "stream",
          "name": "stderr",
          "text": [
            "\n"
          ]
        },
        {
          "output_type": "stream",
          "name": "stdout",
          "text": [
            "\n",
            "      Epoch    GPU_mem   box_loss   cls_loss   dfl_loss  Instances       Size\n"
          ]
        },
        {
          "output_type": "stream",
          "name": "stderr",
          "text": [
            "      7/100         0G      1.593      1.621       1.47         41        640: 100%|██████████| 7/7 [01:51<00:00, 15.93s/it]\n",
            "                 Class     Images  Instances      Box(P          R      mAP50  mAP50-95): 100%|██████████| 4/4 [00:44<00:00, 11.23s/it]"
          ]
        },
        {
          "output_type": "stream",
          "name": "stdout",
          "text": [
            "                   all        105       1393      0.417      0.392      0.318      0.177\n"
          ]
        },
        {
          "output_type": "stream",
          "name": "stderr",
          "text": [
            "\n"
          ]
        },
        {
          "output_type": "stream",
          "name": "stdout",
          "text": [
            "\n",
            "      Epoch    GPU_mem   box_loss   cls_loss   dfl_loss  Instances       Size\n"
          ]
        },
        {
          "output_type": "stream",
          "name": "stderr",
          "text": [
            "      8/100         0G      1.656      1.729      1.443         51        640: 100%|██████████| 7/7 [01:53<00:00, 16.20s/it]\n",
            "                 Class     Images  Instances      Box(P          R      mAP50  mAP50-95): 100%|██████████| 4/4 [00:44<00:00, 11.01s/it]"
          ]
        },
        {
          "output_type": "stream",
          "name": "stdout",
          "text": [
            "                   all        105       1393      0.288      0.429      0.257      0.139\n"
          ]
        },
        {
          "output_type": "stream",
          "name": "stderr",
          "text": [
            "\n"
          ]
        },
        {
          "output_type": "stream",
          "name": "stdout",
          "text": [
            "\n",
            "      Epoch    GPU_mem   box_loss   cls_loss   dfl_loss  Instances       Size\n"
          ]
        },
        {
          "output_type": "stream",
          "name": "stderr",
          "text": [
            "      9/100         0G      1.629      1.611      1.451         33        640: 100%|██████████| 7/7 [01:51<00:00, 15.95s/it]\n",
            "                 Class     Images  Instances      Box(P          R      mAP50  mAP50-95): 100%|██████████| 4/4 [00:45<00:00, 11.43s/it]"
          ]
        },
        {
          "output_type": "stream",
          "name": "stdout",
          "text": [
            "                   all        105       1393      0.384      0.506      0.344      0.184\n"
          ]
        },
        {
          "output_type": "stream",
          "name": "stderr",
          "text": [
            "\n"
          ]
        },
        {
          "output_type": "stream",
          "name": "stdout",
          "text": [
            "\n",
            "      Epoch    GPU_mem   box_loss   cls_loss   dfl_loss  Instances       Size\n"
          ]
        },
        {
          "output_type": "stream",
          "name": "stderr",
          "text": [
            "     10/100         0G      1.565      1.551      1.411         59        640: 100%|██████████| 7/7 [01:46<00:00, 15.21s/it]\n",
            "                 Class     Images  Instances      Box(P          R      mAP50  mAP50-95): 100%|██████████| 4/4 [00:43<00:00, 10.91s/it]"
          ]
        },
        {
          "output_type": "stream",
          "name": "stdout",
          "text": [
            "                   all        105       1393      0.423      0.444       0.33      0.188\n"
          ]
        },
        {
          "output_type": "stream",
          "name": "stderr",
          "text": [
            "\n"
          ]
        },
        {
          "output_type": "stream",
          "name": "stdout",
          "text": [
            "\n",
            "      Epoch    GPU_mem   box_loss   cls_loss   dfl_loss  Instances       Size\n"
          ]
        },
        {
          "output_type": "stream",
          "name": "stderr",
          "text": [
            "     11/100         0G      1.589      1.534      1.478         67        640: 100%|██████████| 7/7 [01:52<00:00, 16.02s/it]\n",
            "                 Class     Images  Instances      Box(P          R      mAP50  mAP50-95): 100%|██████████| 4/4 [00:45<00:00, 11.42s/it]"
          ]
        },
        {
          "output_type": "stream",
          "name": "stdout",
          "text": [
            "                   all        105       1393      0.361      0.507      0.365      0.206\n"
          ]
        },
        {
          "output_type": "stream",
          "name": "stderr",
          "text": [
            "\n"
          ]
        },
        {
          "output_type": "stream",
          "name": "stdout",
          "text": [
            "\n",
            "      Epoch    GPU_mem   box_loss   cls_loss   dfl_loss  Instances       Size\n"
          ]
        },
        {
          "output_type": "stream",
          "name": "stderr",
          "text": [
            "     12/100         0G      1.666      1.508      1.449         49        640: 100%|██████████| 7/7 [02:02<00:00, 17.51s/it]\n",
            "                 Class     Images  Instances      Box(P          R      mAP50  mAP50-95): 100%|██████████| 4/4 [00:43<00:00, 10.99s/it]"
          ]
        },
        {
          "output_type": "stream",
          "name": "stdout",
          "text": [
            "                   all        105       1393      0.382      0.417      0.335      0.185\n"
          ]
        },
        {
          "output_type": "stream",
          "name": "stderr",
          "text": [
            "\n"
          ]
        },
        {
          "output_type": "stream",
          "name": "stdout",
          "text": [
            "\n",
            "      Epoch    GPU_mem   box_loss   cls_loss   dfl_loss  Instances       Size\n"
          ]
        },
        {
          "output_type": "stream",
          "name": "stderr",
          "text": [
            "     13/100         0G      1.667      1.434      1.384        302        640: 100%|██████████| 7/7 [01:50<00:00, 15.72s/it]\n",
            "                 Class     Images  Instances      Box(P          R      mAP50  mAP50-95): 100%|██████████| 4/4 [00:44<00:00, 11.12s/it]"
          ]
        },
        {
          "output_type": "stream",
          "name": "stdout",
          "text": [
            "                   all        105       1393      0.472      0.288      0.349      0.188\n"
          ]
        },
        {
          "output_type": "stream",
          "name": "stderr",
          "text": [
            "\n"
          ]
        },
        {
          "output_type": "stream",
          "name": "stdout",
          "text": [
            "\n",
            "      Epoch    GPU_mem   box_loss   cls_loss   dfl_loss  Instances       Size\n"
          ]
        },
        {
          "output_type": "stream",
          "name": "stderr",
          "text": [
            "     14/100         0G      1.528      1.582      1.497         42        640: 100%|██████████| 7/7 [01:39<00:00, 14.15s/it]\n",
            "                 Class     Images  Instances      Box(P          R      mAP50  mAP50-95): 100%|██████████| 4/4 [00:44<00:00, 11.16s/it]"
          ]
        },
        {
          "output_type": "stream",
          "name": "stdout",
          "text": [
            "                   all        105       1393       0.31       0.59      0.361      0.207\n"
          ]
        },
        {
          "output_type": "stream",
          "name": "stderr",
          "text": [
            "\n"
          ]
        },
        {
          "output_type": "stream",
          "name": "stdout",
          "text": [
            "\n",
            "      Epoch    GPU_mem   box_loss   cls_loss   dfl_loss  Instances       Size\n"
          ]
        },
        {
          "output_type": "stream",
          "name": "stderr",
          "text": [
            "     15/100         0G      1.512      1.571      1.475         51        640: 100%|██████████| 7/7 [01:50<00:00, 15.74s/it]\n",
            "                 Class     Images  Instances      Box(P          R      mAP50  mAP50-95): 100%|██████████| 4/4 [00:47<00:00, 11.89s/it]"
          ]
        },
        {
          "output_type": "stream",
          "name": "stdout",
          "text": [
            "                   all        105       1393      0.377      0.456      0.339      0.198\n"
          ]
        },
        {
          "output_type": "stream",
          "name": "stderr",
          "text": [
            "\n"
          ]
        },
        {
          "output_type": "stream",
          "name": "stdout",
          "text": [
            "\n",
            "      Epoch    GPU_mem   box_loss   cls_loss   dfl_loss  Instances       Size\n"
          ]
        },
        {
          "output_type": "stream",
          "name": "stderr",
          "text": [
            "     16/100         0G      1.599      1.538      1.487         53        640: 100%|██████████| 7/7 [01:50<00:00, 15.76s/it]\n",
            "                 Class     Images  Instances      Box(P          R      mAP50  mAP50-95): 100%|██████████| 4/4 [00:44<00:00, 11.11s/it]"
          ]
        },
        {
          "output_type": "stream",
          "name": "stdout",
          "text": [
            "                   all        105       1393      0.434      0.409      0.361      0.206\n"
          ]
        },
        {
          "output_type": "stream",
          "name": "stderr",
          "text": [
            "\n"
          ]
        },
        {
          "output_type": "stream",
          "name": "stdout",
          "text": [
            "\n",
            "      Epoch    GPU_mem   box_loss   cls_loss   dfl_loss  Instances       Size\n"
          ]
        },
        {
          "output_type": "stream",
          "name": "stderr",
          "text": [
            "     17/100         0G       1.48       1.37      1.387         91        640: 100%|██████████| 7/7 [01:47<00:00, 15.37s/it]\n",
            "                 Class     Images  Instances      Box(P          R      mAP50  mAP50-95): 100%|██████████| 4/4 [00:42<00:00, 10.64s/it]"
          ]
        },
        {
          "output_type": "stream",
          "name": "stdout",
          "text": [
            "                   all        105       1393      0.466       0.46      0.421      0.252\n"
          ]
        },
        {
          "output_type": "stream",
          "name": "stderr",
          "text": [
            "\n"
          ]
        },
        {
          "output_type": "stream",
          "name": "stdout",
          "text": [
            "\n",
            "      Epoch    GPU_mem   box_loss   cls_loss   dfl_loss  Instances       Size\n"
          ]
        },
        {
          "output_type": "stream",
          "name": "stderr",
          "text": [
            "     18/100         0G       1.39      1.402      1.359         18        640: 100%|██████████| 7/7 [01:39<00:00, 14.28s/it]\n",
            "                 Class     Images  Instances      Box(P          R      mAP50  mAP50-95): 100%|██████████| 4/4 [00:45<00:00, 11.48s/it]"
          ]
        },
        {
          "output_type": "stream",
          "name": "stdout",
          "text": [
            "                   all        105       1393      0.533      0.493      0.448      0.256\n"
          ]
        },
        {
          "output_type": "stream",
          "name": "stderr",
          "text": [
            "\n"
          ]
        },
        {
          "output_type": "stream",
          "name": "stdout",
          "text": [
            "\n",
            "      Epoch    GPU_mem   box_loss   cls_loss   dfl_loss  Instances       Size\n"
          ]
        },
        {
          "output_type": "stream",
          "name": "stderr",
          "text": [
            "     19/100         0G      1.542      1.452      1.455         52        640: 100%|██████████| 7/7 [01:54<00:00, 16.34s/it]\n",
            "                 Class     Images  Instances      Box(P          R      mAP50  mAP50-95): 100%|██████████| 4/4 [00:45<00:00, 11.27s/it]"
          ]
        },
        {
          "output_type": "stream",
          "name": "stdout",
          "text": [
            "                   all        105       1393      0.581      0.485       0.49      0.271\n"
          ]
        },
        {
          "output_type": "stream",
          "name": "stderr",
          "text": [
            "\n"
          ]
        },
        {
          "output_type": "stream",
          "name": "stdout",
          "text": [
            "\n",
            "      Epoch    GPU_mem   box_loss   cls_loss   dfl_loss  Instances       Size\n"
          ]
        },
        {
          "output_type": "stream",
          "name": "stderr",
          "text": [
            "     20/100         0G      1.451      1.385      1.379         37        640: 100%|██████████| 7/7 [01:45<00:00, 15.10s/it]\n",
            "                 Class     Images  Instances      Box(P          R      mAP50  mAP50-95): 100%|██████████| 4/4 [00:44<00:00, 11.03s/it]"
          ]
        },
        {
          "output_type": "stream",
          "name": "stdout",
          "text": [
            "                   all        105       1393      0.549      0.442      0.431      0.238\n"
          ]
        },
        {
          "output_type": "stream",
          "name": "stderr",
          "text": [
            "\n"
          ]
        },
        {
          "output_type": "stream",
          "name": "stdout",
          "text": [
            "\n",
            "      Epoch    GPU_mem   box_loss   cls_loss   dfl_loss  Instances       Size\n"
          ]
        },
        {
          "output_type": "stream",
          "name": "stderr",
          "text": [
            "     21/100         0G      1.478      1.336      1.353         36        640: 100%|██████████| 7/7 [01:52<00:00, 16.11s/it]\n",
            "                 Class     Images  Instances      Box(P          R      mAP50  mAP50-95): 100%|██████████| 4/4 [00:44<00:00, 11.09s/it]"
          ]
        },
        {
          "output_type": "stream",
          "name": "stdout",
          "text": [
            "                   all        105       1393      0.564       0.44      0.423      0.225\n"
          ]
        },
        {
          "output_type": "stream",
          "name": "stderr",
          "text": [
            "\n"
          ]
        },
        {
          "output_type": "stream",
          "name": "stdout",
          "text": [
            "\n",
            "      Epoch    GPU_mem   box_loss   cls_loss   dfl_loss  Instances       Size\n"
          ]
        },
        {
          "output_type": "stream",
          "name": "stderr",
          "text": [
            "     22/100         0G      1.466       1.42      1.484         48        640: 100%|██████████| 7/7 [01:38<00:00, 14.13s/it]\n",
            "                 Class     Images  Instances      Box(P          R      mAP50  mAP50-95): 100%|██████████| 4/4 [00:46<00:00, 11.54s/it]"
          ]
        },
        {
          "output_type": "stream",
          "name": "stdout",
          "text": [
            "                   all        105       1393      0.558      0.434      0.425      0.246\n"
          ]
        },
        {
          "output_type": "stream",
          "name": "stderr",
          "text": [
            "\n"
          ]
        },
        {
          "output_type": "stream",
          "name": "stdout",
          "text": [
            "\n",
            "      Epoch    GPU_mem   box_loss   cls_loss   dfl_loss  Instances       Size\n"
          ]
        },
        {
          "output_type": "stream",
          "name": "stderr",
          "text": [
            "     23/100         0G      1.416       1.24      1.307         76        640: 100%|██████████| 7/7 [02:03<00:00, 17.71s/it]\n",
            "                 Class     Images  Instances      Box(P          R      mAP50  mAP50-95): 100%|██████████| 4/4 [00:45<00:00, 11.32s/it]"
          ]
        },
        {
          "output_type": "stream",
          "name": "stdout",
          "text": [
            "                   all        105       1393      0.458      0.468      0.449      0.262\n"
          ]
        },
        {
          "output_type": "stream",
          "name": "stderr",
          "text": [
            "\n"
          ]
        },
        {
          "output_type": "stream",
          "name": "stdout",
          "text": [
            "\n",
            "      Epoch    GPU_mem   box_loss   cls_loss   dfl_loss  Instances       Size\n"
          ]
        },
        {
          "output_type": "stream",
          "name": "stderr",
          "text": [
            "     24/100         0G      1.464      1.315      1.368         26        640: 100%|██████████| 7/7 [01:53<00:00, 16.25s/it]\n",
            "                 Class     Images  Instances      Box(P          R      mAP50  mAP50-95): 100%|██████████| 4/4 [00:49<00:00, 12.50s/it]"
          ]
        },
        {
          "output_type": "stream",
          "name": "stdout",
          "text": [
            "                   all        105       1393      0.436      0.435      0.412      0.235\n"
          ]
        },
        {
          "output_type": "stream",
          "name": "stderr",
          "text": [
            "\n"
          ]
        },
        {
          "output_type": "stream",
          "name": "stdout",
          "text": [
            "\n",
            "      Epoch    GPU_mem   box_loss   cls_loss   dfl_loss  Instances       Size\n"
          ]
        },
        {
          "output_type": "stream",
          "name": "stderr",
          "text": [
            "     25/100         0G       1.39        1.3      1.326        275        640: 100%|██████████| 7/7 [01:46<00:00, 15.16s/it]\n",
            "                 Class     Images  Instances      Box(P          R      mAP50  mAP50-95): 100%|██████████| 4/4 [00:48<00:00, 12.16s/it]"
          ]
        },
        {
          "output_type": "stream",
          "name": "stdout",
          "text": [
            "                   all        105       1393       0.62      0.473      0.505      0.291\n"
          ]
        },
        {
          "output_type": "stream",
          "name": "stderr",
          "text": [
            "\n"
          ]
        },
        {
          "output_type": "stream",
          "name": "stdout",
          "text": [
            "\n",
            "      Epoch    GPU_mem   box_loss   cls_loss   dfl_loss  Instances       Size\n"
          ]
        },
        {
          "output_type": "stream",
          "name": "stderr",
          "text": [
            "     26/100         0G      1.389      1.168      1.251        271        640: 100%|██████████| 7/7 [01:46<00:00, 15.16s/it]\n",
            "                 Class     Images  Instances      Box(P          R      mAP50  mAP50-95): 100%|██████████| 4/4 [00:57<00:00, 14.37s/it]"
          ]
        },
        {
          "output_type": "stream",
          "name": "stdout",
          "text": [
            "                   all        105       1393      0.637      0.515       0.56      0.338\n"
          ]
        },
        {
          "output_type": "stream",
          "name": "stderr",
          "text": [
            "\n"
          ]
        },
        {
          "output_type": "stream",
          "name": "stdout",
          "text": [
            "\n",
            "      Epoch    GPU_mem   box_loss   cls_loss   dfl_loss  Instances       Size\n"
          ]
        },
        {
          "output_type": "stream",
          "name": "stderr",
          "text": [
            "     27/100         0G      1.278      1.246      1.288         21        640: 100%|██████████| 7/7 [01:46<00:00, 15.23s/it]\n",
            "                 Class     Images  Instances      Box(P          R      mAP50  mAP50-95): 100%|██████████| 4/4 [00:46<00:00, 11.62s/it]"
          ]
        },
        {
          "output_type": "stream",
          "name": "stdout",
          "text": [
            "                   all        105       1393      0.645      0.565      0.604       0.37\n"
          ]
        },
        {
          "output_type": "stream",
          "name": "stderr",
          "text": [
            "\n"
          ]
        },
        {
          "output_type": "stream",
          "name": "stdout",
          "text": [
            "\n",
            "      Epoch    GPU_mem   box_loss   cls_loss   dfl_loss  Instances       Size\n"
          ]
        },
        {
          "output_type": "stream",
          "name": "stderr",
          "text": [
            "     28/100         0G      1.445      1.291      1.381         33        640: 100%|██████████| 7/7 [01:44<00:00, 14.94s/it]\n",
            "                 Class     Images  Instances      Box(P          R      mAP50  mAP50-95): 100%|██████████| 4/4 [00:45<00:00, 11.41s/it]"
          ]
        },
        {
          "output_type": "stream",
          "name": "stdout",
          "text": [
            "                   all        105       1393      0.671      0.596       0.66      0.404\n"
          ]
        },
        {
          "output_type": "stream",
          "name": "stderr",
          "text": [
            "\n"
          ]
        },
        {
          "output_type": "stream",
          "name": "stdout",
          "text": [
            "\n",
            "      Epoch    GPU_mem   box_loss   cls_loss   dfl_loss  Instances       Size\n"
          ]
        },
        {
          "output_type": "stream",
          "name": "stderr",
          "text": [
            "     29/100         0G      1.326      1.229      1.237        181        640: 100%|██████████| 7/7 [01:54<00:00, 16.34s/it]\n",
            "                 Class     Images  Instances      Box(P          R      mAP50  mAP50-95): 100%|██████████| 4/4 [00:44<00:00, 11.06s/it]"
          ]
        },
        {
          "output_type": "stream",
          "name": "stdout",
          "text": [
            "                   all        105       1393      0.644      0.595      0.631       0.38\n"
          ]
        },
        {
          "output_type": "stream",
          "name": "stderr",
          "text": [
            "\n"
          ]
        },
        {
          "output_type": "stream",
          "name": "stdout",
          "text": [
            "\n",
            "      Epoch    GPU_mem   box_loss   cls_loss   dfl_loss  Instances       Size\n"
          ]
        },
        {
          "output_type": "stream",
          "name": "stderr",
          "text": [
            "     30/100         0G      1.338      1.252       1.33         30        640: 100%|██████████| 7/7 [01:42<00:00, 14.63s/it]\n",
            "                 Class     Images  Instances      Box(P          R      mAP50  mAP50-95): 100%|██████████| 4/4 [00:52<00:00, 13.20s/it]"
          ]
        },
        {
          "output_type": "stream",
          "name": "stdout",
          "text": [
            "                   all        105       1393      0.655      0.552      0.614      0.373\n"
          ]
        },
        {
          "output_type": "stream",
          "name": "stderr",
          "text": [
            "\n"
          ]
        },
        {
          "output_type": "stream",
          "name": "stdout",
          "text": [
            "\n",
            "      Epoch    GPU_mem   box_loss   cls_loss   dfl_loss  Instances       Size\n"
          ]
        },
        {
          "output_type": "stream",
          "name": "stderr",
          "text": [
            "     31/100         0G      1.341      1.217      1.376         56        640: 100%|██████████| 7/7 [01:34<00:00, 13.53s/it]\n",
            "                 Class     Images  Instances      Box(P          R      mAP50  mAP50-95): 100%|██████████| 4/4 [00:45<00:00, 11.33s/it]"
          ]
        },
        {
          "output_type": "stream",
          "name": "stdout",
          "text": [
            "                   all        105       1393      0.644      0.588      0.644      0.399\n"
          ]
        },
        {
          "output_type": "stream",
          "name": "stderr",
          "text": [
            "\n"
          ]
        },
        {
          "output_type": "stream",
          "name": "stdout",
          "text": [
            "\n",
            "      Epoch    GPU_mem   box_loss   cls_loss   dfl_loss  Instances       Size\n"
          ]
        },
        {
          "output_type": "stream",
          "name": "stderr",
          "text": [
            "     32/100         0G      1.363      1.163      1.327         44        640: 100%|██████████| 7/7 [01:45<00:00, 15.08s/it]\n",
            "                 Class     Images  Instances      Box(P          R      mAP50  mAP50-95): 100%|██████████| 4/4 [00:49<00:00, 12.31s/it]"
          ]
        },
        {
          "output_type": "stream",
          "name": "stdout",
          "text": [
            "                   all        105       1393      0.622      0.565      0.586      0.349\n"
          ]
        },
        {
          "output_type": "stream",
          "name": "stderr",
          "text": [
            "\n"
          ]
        },
        {
          "output_type": "stream",
          "name": "stdout",
          "text": [
            "\n",
            "      Epoch    GPU_mem   box_loss   cls_loss   dfl_loss  Instances       Size\n"
          ]
        },
        {
          "output_type": "stream",
          "name": "stderr",
          "text": [
            "     33/100         0G      1.348      1.193       1.35         28        640: 100%|██████████| 7/7 [01:41<00:00, 14.54s/it]\n",
            "                 Class     Images  Instances      Box(P          R      mAP50  mAP50-95): 100%|██████████| 4/4 [00:46<00:00, 11.74s/it]"
          ]
        },
        {
          "output_type": "stream",
          "name": "stdout",
          "text": [
            "                   all        105       1393      0.679      0.576      0.644      0.361\n"
          ]
        },
        {
          "output_type": "stream",
          "name": "stderr",
          "text": [
            "\n"
          ]
        },
        {
          "output_type": "stream",
          "name": "stdout",
          "text": [
            "\n",
            "      Epoch    GPU_mem   box_loss   cls_loss   dfl_loss  Instances       Size\n"
          ]
        },
        {
          "output_type": "stream",
          "name": "stderr",
          "text": [
            "     34/100         0G      1.294      1.019      1.182        318        640: 100%|██████████| 7/7 [01:57<00:00, 16.73s/it]\n",
            "                 Class     Images  Instances      Box(P          R      mAP50  mAP50-95): 100%|██████████| 4/4 [00:51<00:00, 12.78s/it]"
          ]
        },
        {
          "output_type": "stream",
          "name": "stdout",
          "text": [
            "                   all        105       1393      0.733      0.547      0.655      0.402\n"
          ]
        },
        {
          "output_type": "stream",
          "name": "stderr",
          "text": [
            "\n"
          ]
        },
        {
          "output_type": "stream",
          "name": "stdout",
          "text": [
            "\n",
            "      Epoch    GPU_mem   box_loss   cls_loss   dfl_loss  Instances       Size\n"
          ]
        },
        {
          "output_type": "stream",
          "name": "stderr",
          "text": [
            "     35/100         0G      1.227      1.128      1.266         22        640: 100%|██████████| 7/7 [01:47<00:00, 15.36s/it]\n",
            "                 Class     Images  Instances      Box(P          R      mAP50  mAP50-95): 100%|██████████| 4/4 [00:45<00:00, 11.27s/it]"
          ]
        },
        {
          "output_type": "stream",
          "name": "stdout",
          "text": [
            "                   all        105       1393      0.753      0.615      0.698      0.434\n"
          ]
        },
        {
          "output_type": "stream",
          "name": "stderr",
          "text": [
            "\n"
          ]
        },
        {
          "output_type": "stream",
          "name": "stdout",
          "text": [
            "\n",
            "      Epoch    GPU_mem   box_loss   cls_loss   dfl_loss  Instances       Size\n"
          ]
        },
        {
          "output_type": "stream",
          "name": "stderr",
          "text": [
            "     36/100         0G      1.268      1.074      1.241        148        640: 100%|██████████| 7/7 [01:41<00:00, 14.44s/it]\n",
            "                 Class     Images  Instances      Box(P          R      mAP50  mAP50-95): 100%|██████████| 4/4 [00:45<00:00, 11.43s/it]"
          ]
        },
        {
          "output_type": "stream",
          "name": "stdout",
          "text": [
            "                   all        105       1393      0.773      0.602      0.714      0.428\n"
          ]
        },
        {
          "output_type": "stream",
          "name": "stderr",
          "text": [
            "\n"
          ]
        },
        {
          "output_type": "stream",
          "name": "stdout",
          "text": [
            "\n",
            "      Epoch    GPU_mem   box_loss   cls_loss   dfl_loss  Instances       Size\n"
          ]
        },
        {
          "output_type": "stream",
          "name": "stderr",
          "text": [
            "     37/100         0G      1.254      1.098      1.304         32        640: 100%|██████████| 7/7 [01:42<00:00, 14.62s/it]\n",
            "                 Class     Images  Instances      Box(P          R      mAP50  mAP50-95): 100%|██████████| 4/4 [00:45<00:00, 11.29s/it]"
          ]
        },
        {
          "output_type": "stream",
          "name": "stdout",
          "text": [
            "                   all        105       1393      0.729       0.59      0.699      0.423\n"
          ]
        },
        {
          "output_type": "stream",
          "name": "stderr",
          "text": [
            "\n"
          ]
        },
        {
          "output_type": "stream",
          "name": "stdout",
          "text": [
            "\n",
            "      Epoch    GPU_mem   box_loss   cls_loss   dfl_loss  Instances       Size\n"
          ]
        },
        {
          "output_type": "stream",
          "name": "stderr",
          "text": [
            "     38/100         0G      1.258      1.099      1.248         53        640: 100%|██████████| 7/7 [01:50<00:00, 15.82s/it]\n",
            "                 Class     Images  Instances      Box(P          R      mAP50  mAP50-95): 100%|██████████| 4/4 [00:50<00:00, 12.65s/it]"
          ]
        },
        {
          "output_type": "stream",
          "name": "stdout",
          "text": [
            "                   all        105       1393       0.58      0.662      0.594      0.356\n"
          ]
        },
        {
          "output_type": "stream",
          "name": "stderr",
          "text": [
            "\n"
          ]
        },
        {
          "output_type": "stream",
          "name": "stdout",
          "text": [
            "\n",
            "      Epoch    GPU_mem   box_loss   cls_loss   dfl_loss  Instances       Size\n"
          ]
        },
        {
          "output_type": "stream",
          "name": "stderr",
          "text": [
            "     39/100         0G      1.357      1.154      1.324         31        640: 100%|██████████| 7/7 [01:39<00:00, 14.22s/it]\n",
            "                 Class     Images  Instances      Box(P          R      mAP50  mAP50-95): 100%|██████████| 4/4 [00:44<00:00, 11.05s/it]"
          ]
        },
        {
          "output_type": "stream",
          "name": "stdout",
          "text": [
            "                   all        105       1393      0.685      0.594      0.657      0.411\n"
          ]
        },
        {
          "output_type": "stream",
          "name": "stderr",
          "text": [
            "\n"
          ]
        },
        {
          "output_type": "stream",
          "name": "stdout",
          "text": [
            "\n",
            "      Epoch    GPU_mem   box_loss   cls_loss   dfl_loss  Instances       Size\n"
          ]
        },
        {
          "output_type": "stream",
          "name": "stderr",
          "text": [
            "     40/100         0G      1.292      1.098      1.285         32        640: 100%|██████████| 7/7 [01:46<00:00, 15.24s/it]\n",
            "                 Class     Images  Instances      Box(P          R      mAP50  mAP50-95): 100%|██████████| 4/4 [00:45<00:00, 11.27s/it]"
          ]
        },
        {
          "output_type": "stream",
          "name": "stdout",
          "text": [
            "                   all        105       1393      0.714      0.598       0.67       0.43\n"
          ]
        },
        {
          "output_type": "stream",
          "name": "stderr",
          "text": [
            "\n"
          ]
        },
        {
          "output_type": "stream",
          "name": "stdout",
          "text": [
            "\n",
            "      Epoch    GPU_mem   box_loss   cls_loss   dfl_loss  Instances       Size\n"
          ]
        },
        {
          "output_type": "stream",
          "name": "stderr",
          "text": [
            "     41/100         0G      1.294      1.076      1.286         67        640: 100%|██████████| 7/7 [01:41<00:00, 14.48s/it]\n",
            "                 Class     Images  Instances      Box(P          R      mAP50  mAP50-95): 100%|██████████| 4/4 [00:43<00:00, 10.98s/it]"
          ]
        },
        {
          "output_type": "stream",
          "name": "stdout",
          "text": [
            "                   all        105       1393      0.744      0.572      0.671       0.43\n"
          ]
        },
        {
          "output_type": "stream",
          "name": "stderr",
          "text": [
            "\n"
          ]
        },
        {
          "output_type": "stream",
          "name": "stdout",
          "text": [
            "\n",
            "      Epoch    GPU_mem   box_loss   cls_loss   dfl_loss  Instances       Size\n"
          ]
        },
        {
          "output_type": "stream",
          "name": "stderr",
          "text": [
            "     42/100         0G      1.254      1.103      1.269         46        640: 100%|██████████| 7/7 [01:46<00:00, 15.21s/it]\n",
            "                 Class     Images  Instances      Box(P          R      mAP50  mAP50-95): 100%|██████████| 4/4 [00:48<00:00, 12.10s/it]"
          ]
        },
        {
          "output_type": "stream",
          "name": "stdout",
          "text": [
            "                   all        105       1393      0.695      0.644      0.679      0.426\n"
          ]
        },
        {
          "output_type": "stream",
          "name": "stderr",
          "text": [
            "\n"
          ]
        },
        {
          "output_type": "stream",
          "name": "stdout",
          "text": [
            "\n",
            "      Epoch    GPU_mem   box_loss   cls_loss   dfl_loss  Instances       Size\n"
          ]
        },
        {
          "output_type": "stream",
          "name": "stderr",
          "text": [
            "     43/100         0G      1.288      1.066      1.268        123        640: 100%|██████████| 7/7 [01:45<00:00, 15.13s/it]\n",
            "                 Class     Images  Instances      Box(P          R      mAP50  mAP50-95): 100%|██████████| 4/4 [00:47<00:00, 11.81s/it]"
          ]
        },
        {
          "output_type": "stream",
          "name": "stdout",
          "text": [
            "                   all        105       1393       0.62      0.637      0.626      0.398\n"
          ]
        },
        {
          "output_type": "stream",
          "name": "stderr",
          "text": [
            "\n"
          ]
        },
        {
          "output_type": "stream",
          "name": "stdout",
          "text": [
            "\n",
            "      Epoch    GPU_mem   box_loss   cls_loss   dfl_loss  Instances       Size\n"
          ]
        },
        {
          "output_type": "stream",
          "name": "stderr",
          "text": [
            "     44/100         0G      1.191     0.9929      1.194         27        640: 100%|██████████| 7/7 [01:48<00:00, 15.52s/it]\n",
            "                 Class     Images  Instances      Box(P          R      mAP50  mAP50-95): 100%|██████████| 4/4 [00:45<00:00, 11.43s/it]"
          ]
        },
        {
          "output_type": "stream",
          "name": "stdout",
          "text": [
            "                   all        105       1393       0.62      0.596      0.615       0.39\n"
          ]
        },
        {
          "output_type": "stream",
          "name": "stderr",
          "text": [
            "\n"
          ]
        },
        {
          "output_type": "stream",
          "name": "stdout",
          "text": [
            "\n",
            "      Epoch    GPU_mem   box_loss   cls_loss   dfl_loss  Instances       Size\n"
          ]
        },
        {
          "output_type": "stream",
          "name": "stderr",
          "text": [
            "     45/100         0G       1.25      1.123      1.307         32        640: 100%|██████████| 7/7 [01:42<00:00, 14.64s/it]\n",
            "                 Class     Images  Instances      Box(P          R      mAP50  mAP50-95): 100%|██████████| 4/4 [00:47<00:00, 11.90s/it]"
          ]
        },
        {
          "output_type": "stream",
          "name": "stdout",
          "text": [
            "                   all        105       1393      0.661      0.587      0.658      0.415\n"
          ]
        },
        {
          "output_type": "stream",
          "name": "stderr",
          "text": [
            "\n"
          ]
        },
        {
          "output_type": "stream",
          "name": "stdout",
          "text": [
            "\n",
            "      Epoch    GPU_mem   box_loss   cls_loss   dfl_loss  Instances       Size\n"
          ]
        },
        {
          "output_type": "stream",
          "name": "stderr",
          "text": [
            "     46/100         0G      1.269     0.9739      1.206        123        640: 100%|██████████| 7/7 [01:51<00:00, 16.00s/it]\n",
            "                 Class     Images  Instances      Box(P          R      mAP50  mAP50-95): 100%|██████████| 4/4 [00:50<00:00, 12.58s/it]"
          ]
        },
        {
          "output_type": "stream",
          "name": "stdout",
          "text": [
            "                   all        105       1393      0.684      0.661      0.709      0.444\n"
          ]
        },
        {
          "output_type": "stream",
          "name": "stderr",
          "text": [
            "\n"
          ]
        },
        {
          "output_type": "stream",
          "name": "stdout",
          "text": [
            "\n",
            "      Epoch    GPU_mem   box_loss   cls_loss   dfl_loss  Instances       Size\n"
          ]
        },
        {
          "output_type": "stream",
          "name": "stderr",
          "text": [
            "     47/100         0G      1.229      1.004       1.25         81        640: 100%|██████████| 7/7 [01:45<00:00, 15.10s/it]\n",
            "                 Class     Images  Instances      Box(P          R      mAP50  mAP50-95): 100%|██████████| 4/4 [00:46<00:00, 11.58s/it]"
          ]
        },
        {
          "output_type": "stream",
          "name": "stdout",
          "text": [
            "                   all        105       1393      0.732      0.684      0.756       0.49\n"
          ]
        },
        {
          "output_type": "stream",
          "name": "stderr",
          "text": [
            "\n"
          ]
        },
        {
          "output_type": "stream",
          "name": "stdout",
          "text": [
            "\n",
            "      Epoch    GPU_mem   box_loss   cls_loss   dfl_loss  Instances       Size\n"
          ]
        },
        {
          "output_type": "stream",
          "name": "stderr",
          "text": [
            "     48/100         0G       1.22      1.139      1.288         15        640: 100%|██████████| 7/7 [01:38<00:00, 14.02s/it]\n",
            "                 Class     Images  Instances      Box(P          R      mAP50  mAP50-95): 100%|██████████| 4/4 [00:44<00:00, 11.17s/it]"
          ]
        },
        {
          "output_type": "stream",
          "name": "stdout",
          "text": [
            "                   all        105       1393      0.753      0.666      0.754        0.5\n"
          ]
        },
        {
          "output_type": "stream",
          "name": "stderr",
          "text": [
            "\n"
          ]
        },
        {
          "output_type": "stream",
          "name": "stdout",
          "text": [
            "\n",
            "      Epoch    GPU_mem   box_loss   cls_loss   dfl_loss  Instances       Size\n"
          ]
        },
        {
          "output_type": "stream",
          "name": "stderr",
          "text": [
            "     49/100         0G      1.181     0.9895      1.247         32        640: 100%|██████████| 7/7 [01:38<00:00, 14.06s/it]\n",
            "                 Class     Images  Instances      Box(P          R      mAP50  mAP50-95): 100%|██████████| 4/4 [00:44<00:00, 11.19s/it]"
          ]
        },
        {
          "output_type": "stream",
          "name": "stdout",
          "text": [
            "                   all        105       1393      0.791      0.646      0.756      0.498\n"
          ]
        },
        {
          "output_type": "stream",
          "name": "stderr",
          "text": [
            "\n"
          ]
        },
        {
          "output_type": "stream",
          "name": "stdout",
          "text": [
            "\n",
            "      Epoch    GPU_mem   box_loss   cls_loss   dfl_loss  Instances       Size\n"
          ]
        },
        {
          "output_type": "stream",
          "name": "stderr",
          "text": [
            "     50/100         0G      1.256      1.052      1.287         34        640: 100%|██████████| 7/7 [01:38<00:00, 14.01s/it]\n",
            "                 Class     Images  Instances      Box(P          R      mAP50  mAP50-95): 100%|██████████| 4/4 [00:49<00:00, 12.27s/it]"
          ]
        },
        {
          "output_type": "stream",
          "name": "stdout",
          "text": [
            "                   all        105       1393      0.847      0.636       0.77      0.507\n"
          ]
        },
        {
          "output_type": "stream",
          "name": "stderr",
          "text": [
            "\n"
          ]
        },
        {
          "output_type": "stream",
          "name": "stdout",
          "text": [
            "\n",
            "      Epoch    GPU_mem   box_loss   cls_loss   dfl_loss  Instances       Size\n"
          ]
        },
        {
          "output_type": "stream",
          "name": "stderr",
          "text": [
            "     51/100         0G      1.207      1.031      1.258         39        640: 100%|██████████| 7/7 [01:40<00:00, 14.41s/it]\n",
            "                 Class     Images  Instances      Box(P          R      mAP50  mAP50-95): 100%|██████████| 4/4 [00:45<00:00, 11.27s/it]"
          ]
        },
        {
          "output_type": "stream",
          "name": "stdout",
          "text": [
            "                   all        105       1393       0.79      0.679      0.767      0.494\n"
          ]
        },
        {
          "output_type": "stream",
          "name": "stderr",
          "text": [
            "\n"
          ]
        },
        {
          "output_type": "stream",
          "name": "stdout",
          "text": [
            "\n",
            "      Epoch    GPU_mem   box_loss   cls_loss   dfl_loss  Instances       Size\n"
          ]
        },
        {
          "output_type": "stream",
          "name": "stderr",
          "text": [
            "     52/100         0G      1.298     0.9736      1.234         98        640: 100%|██████████| 7/7 [01:45<00:00, 15.13s/it]\n",
            "                 Class     Images  Instances      Box(P          R      mAP50  mAP50-95): 100%|██████████| 4/4 [00:45<00:00, 11.50s/it]"
          ]
        },
        {
          "output_type": "stream",
          "name": "stdout",
          "text": [
            "                   all        105       1393      0.842      0.674      0.768       0.49\n"
          ]
        },
        {
          "output_type": "stream",
          "name": "stderr",
          "text": [
            "\n"
          ]
        },
        {
          "output_type": "stream",
          "name": "stdout",
          "text": [
            "\n",
            "      Epoch    GPU_mem   box_loss   cls_loss   dfl_loss  Instances       Size\n"
          ]
        },
        {
          "output_type": "stream",
          "name": "stderr",
          "text": [
            "     53/100         0G      1.214      1.023       1.26         28        640: 100%|██████████| 7/7 [01:38<00:00, 14.06s/it]\n",
            "                 Class     Images  Instances      Box(P          R      mAP50  mAP50-95): 100%|██████████| 4/4 [00:44<00:00, 11.01s/it]"
          ]
        },
        {
          "output_type": "stream",
          "name": "stdout",
          "text": [
            "                   all        105       1393      0.834      0.676      0.775      0.512\n"
          ]
        },
        {
          "output_type": "stream",
          "name": "stderr",
          "text": [
            "\n"
          ]
        },
        {
          "output_type": "stream",
          "name": "stdout",
          "text": [
            "\n",
            "      Epoch    GPU_mem   box_loss   cls_loss   dfl_loss  Instances       Size\n"
          ]
        },
        {
          "output_type": "stream",
          "name": "stderr",
          "text": [
            "     54/100         0G      1.175     0.9636      1.227        159        640: 100%|██████████| 7/7 [01:40<00:00, 14.30s/it]\n",
            "                 Class     Images  Instances      Box(P          R      mAP50  mAP50-95): 100%|██████████| 4/4 [00:44<00:00, 11.13s/it]"
          ]
        },
        {
          "output_type": "stream",
          "name": "stdout",
          "text": [
            "                   all        105       1393      0.837      0.682      0.786      0.535\n"
          ]
        },
        {
          "output_type": "stream",
          "name": "stderr",
          "text": [
            "\n"
          ]
        },
        {
          "output_type": "stream",
          "name": "stdout",
          "text": [
            "\n",
            "      Epoch    GPU_mem   box_loss   cls_loss   dfl_loss  Instances       Size\n"
          ]
        },
        {
          "output_type": "stream",
          "name": "stderr",
          "text": [
            "     55/100         0G      1.227     0.9574      1.206         54        640: 100%|██████████| 7/7 [01:47<00:00, 15.30s/it]\n",
            "                 Class     Images  Instances      Box(P          R      mAP50  mAP50-95): 100%|██████████| 4/4 [00:47<00:00, 11.79s/it]"
          ]
        },
        {
          "output_type": "stream",
          "name": "stdout",
          "text": [
            "                   all        105       1393      0.794      0.671      0.766      0.521\n"
          ]
        },
        {
          "output_type": "stream",
          "name": "stderr",
          "text": [
            "\n"
          ]
        },
        {
          "output_type": "stream",
          "name": "stdout",
          "text": [
            "\n",
            "      Epoch    GPU_mem   box_loss   cls_loss   dfl_loss  Instances       Size\n"
          ]
        },
        {
          "output_type": "stream",
          "name": "stderr",
          "text": [
            "     56/100         0G      1.164     0.8943      1.168         55        640: 100%|██████████| 7/7 [01:51<00:00, 15.90s/it]\n",
            "                 Class     Images  Instances      Box(P          R      mAP50  mAP50-95): 100%|██████████| 4/4 [00:43<00:00, 10.94s/it]"
          ]
        },
        {
          "output_type": "stream",
          "name": "stdout",
          "text": [
            "                   all        105       1393      0.824      0.658      0.785      0.536\n"
          ]
        },
        {
          "output_type": "stream",
          "name": "stderr",
          "text": [
            "\n"
          ]
        },
        {
          "output_type": "stream",
          "name": "stdout",
          "text": [
            "\n",
            "      Epoch    GPU_mem   box_loss   cls_loss   dfl_loss  Instances       Size\n"
          ]
        },
        {
          "output_type": "stream",
          "name": "stderr",
          "text": [
            "     57/100         0G      1.178      1.004      1.248         36        640: 100%|██████████| 7/7 [01:46<00:00, 15.17s/it]\n",
            "                 Class     Images  Instances      Box(P          R      mAP50  mAP50-95): 100%|██████████| 4/4 [00:44<00:00, 11.20s/it]"
          ]
        },
        {
          "output_type": "stream",
          "name": "stdout",
          "text": [
            "                   all        105       1393      0.782      0.706      0.803      0.547\n"
          ]
        },
        {
          "output_type": "stream",
          "name": "stderr",
          "text": [
            "\n"
          ]
        },
        {
          "output_type": "stream",
          "name": "stdout",
          "text": [
            "\n",
            "      Epoch    GPU_mem   box_loss   cls_loss   dfl_loss  Instances       Size\n"
          ]
        },
        {
          "output_type": "stream",
          "name": "stderr",
          "text": [
            "     58/100         0G      1.126     0.9782      1.237         30        640: 100%|██████████| 7/7 [01:38<00:00, 14.10s/it]\n",
            "                 Class     Images  Instances      Box(P          R      mAP50  mAP50-95): 100%|██████████| 4/4 [00:42<00:00, 10.71s/it]"
          ]
        },
        {
          "output_type": "stream",
          "name": "stdout",
          "text": [
            "                   all        105       1393      0.813      0.723      0.812      0.559\n"
          ]
        },
        {
          "output_type": "stream",
          "name": "stderr",
          "text": [
            "\n"
          ]
        },
        {
          "output_type": "stream",
          "name": "stdout",
          "text": [
            "\n",
            "      Epoch    GPU_mem   box_loss   cls_loss   dfl_loss  Instances       Size\n"
          ]
        },
        {
          "output_type": "stream",
          "name": "stderr",
          "text": [
            "     59/100         0G      1.101     0.9365      1.204         61        640: 100%|██████████| 7/7 [01:39<00:00, 14.17s/it]\n",
            "                 Class     Images  Instances      Box(P          R      mAP50  mAP50-95): 100%|██████████| 4/4 [00:44<00:00, 11.23s/it]"
          ]
        },
        {
          "output_type": "stream",
          "name": "stdout",
          "text": [
            "                   all        105       1393      0.795      0.734      0.825      0.571\n"
          ]
        },
        {
          "output_type": "stream",
          "name": "stderr",
          "text": [
            "\n"
          ]
        },
        {
          "output_type": "stream",
          "name": "stdout",
          "text": [
            "\n",
            "      Epoch    GPU_mem   box_loss   cls_loss   dfl_loss  Instances       Size\n"
          ]
        },
        {
          "output_type": "stream",
          "name": "stderr",
          "text": [
            "     60/100         0G      1.133     0.9146      1.172         83        640: 100%|██████████| 7/7 [01:46<00:00, 15.21s/it]\n",
            "                 Class     Images  Instances      Box(P          R      mAP50  mAP50-95): 100%|██████████| 4/4 [00:43<00:00, 10.86s/it]"
          ]
        },
        {
          "output_type": "stream",
          "name": "stdout",
          "text": [
            "                   all        105       1393      0.838      0.718      0.825      0.575\n"
          ]
        },
        {
          "output_type": "stream",
          "name": "stderr",
          "text": [
            "\n"
          ]
        },
        {
          "output_type": "stream",
          "name": "stdout",
          "text": [
            "\n",
            "      Epoch    GPU_mem   box_loss   cls_loss   dfl_loss  Instances       Size\n"
          ]
        },
        {
          "output_type": "stream",
          "name": "stderr",
          "text": [
            "     61/100         0G       1.17      1.008      1.228         50        640: 100%|██████████| 7/7 [01:39<00:00, 14.23s/it]\n",
            "                 Class     Images  Instances      Box(P          R      mAP50  mAP50-95): 100%|██████████| 4/4 [00:43<00:00, 10.90s/it]"
          ]
        },
        {
          "output_type": "stream",
          "name": "stdout",
          "text": [
            "                   all        105       1393      0.823      0.712       0.82      0.571\n"
          ]
        },
        {
          "output_type": "stream",
          "name": "stderr",
          "text": [
            "\n"
          ]
        },
        {
          "output_type": "stream",
          "name": "stdout",
          "text": [
            "\n",
            "      Epoch    GPU_mem   box_loss   cls_loss   dfl_loss  Instances       Size\n"
          ]
        },
        {
          "output_type": "stream",
          "name": "stderr",
          "text": [
            "     62/100         0G      1.199     0.9497      1.205        151        640: 100%|██████████| 7/7 [01:39<00:00, 14.17s/it]\n",
            "                 Class     Images  Instances      Box(P          R      mAP50  mAP50-95): 100%|██████████| 4/4 [00:44<00:00, 11.23s/it]"
          ]
        },
        {
          "output_type": "stream",
          "name": "stdout",
          "text": [
            "                   all        105       1393      0.835       0.71      0.814       0.57\n"
          ]
        },
        {
          "output_type": "stream",
          "name": "stderr",
          "text": [
            "\n"
          ]
        },
        {
          "output_type": "stream",
          "name": "stdout",
          "text": [
            "\n",
            "      Epoch    GPU_mem   box_loss   cls_loss   dfl_loss  Instances       Size\n"
          ]
        },
        {
          "output_type": "stream",
          "name": "stderr",
          "text": [
            "     63/100         0G      1.139      1.038      1.162        211        640: 100%|██████████| 7/7 [01:44<00:00, 14.96s/it]\n",
            "                 Class     Images  Instances      Box(P          R      mAP50  mAP50-95): 100%|██████████| 4/4 [00:44<00:00, 11.23s/it]"
          ]
        },
        {
          "output_type": "stream",
          "name": "stdout",
          "text": [
            "                   all        105       1393      0.822      0.723      0.815      0.581\n"
          ]
        },
        {
          "output_type": "stream",
          "name": "stderr",
          "text": [
            "\n"
          ]
        },
        {
          "output_type": "stream",
          "name": "stdout",
          "text": [
            "\n",
            "      Epoch    GPU_mem   box_loss   cls_loss   dfl_loss  Instances       Size\n"
          ]
        },
        {
          "output_type": "stream",
          "name": "stderr",
          "text": [
            "     64/100         0G      1.199     0.9288      1.224        123        640: 100%|██████████| 7/7 [01:35<00:00, 13.62s/it]\n",
            "                 Class     Images  Instances      Box(P          R      mAP50  mAP50-95): 100%|██████████| 4/4 [00:43<00:00, 10.80s/it]"
          ]
        },
        {
          "output_type": "stream",
          "name": "stdout",
          "text": [
            "                   all        105       1393      0.871       0.69      0.811      0.575\n"
          ]
        },
        {
          "output_type": "stream",
          "name": "stderr",
          "text": [
            "\n"
          ]
        },
        {
          "output_type": "stream",
          "name": "stdout",
          "text": [
            "\n",
            "      Epoch    GPU_mem   box_loss   cls_loss   dfl_loss  Instances       Size\n"
          ]
        },
        {
          "output_type": "stream",
          "name": "stderr",
          "text": [
            "     65/100         0G      1.145     0.8806      1.167        149        640: 100%|██████████| 7/7 [01:38<00:00, 14.14s/it]\n",
            "                 Class     Images  Instances      Box(P          R      mAP50  mAP50-95): 100%|██████████| 4/4 [00:43<00:00, 10.98s/it]"
          ]
        },
        {
          "output_type": "stream",
          "name": "stdout",
          "text": [
            "                   all        105       1393      0.842      0.729      0.824      0.583\n"
          ]
        },
        {
          "output_type": "stream",
          "name": "stderr",
          "text": [
            "\n"
          ]
        },
        {
          "output_type": "stream",
          "name": "stdout",
          "text": [
            "\n",
            "      Epoch    GPU_mem   box_loss   cls_loss   dfl_loss  Instances       Size\n"
          ]
        },
        {
          "output_type": "stream",
          "name": "stderr",
          "text": [
            "     66/100         0G      1.143     0.8591      1.157         52        640: 100%|██████████| 7/7 [01:45<00:00, 15.13s/it]\n",
            "                 Class     Images  Instances      Box(P          R      mAP50  mAP50-95): 100%|██████████| 4/4 [00:44<00:00, 11.06s/it]"
          ]
        },
        {
          "output_type": "stream",
          "name": "stdout",
          "text": [
            "                   all        105       1393      0.866      0.747      0.846      0.596\n"
          ]
        },
        {
          "output_type": "stream",
          "name": "stderr",
          "text": [
            "\n"
          ]
        },
        {
          "output_type": "stream",
          "name": "stdout",
          "text": [
            "\n",
            "      Epoch    GPU_mem   box_loss   cls_loss   dfl_loss  Instances       Size\n"
          ]
        },
        {
          "output_type": "stream",
          "name": "stderr",
          "text": [
            "     67/100         0G      1.136     0.8305      1.136         65        640: 100%|██████████| 7/7 [01:51<00:00, 15.99s/it]\n",
            "                 Class     Images  Instances      Box(P          R      mAP50  mAP50-95): 100%|██████████| 4/4 [00:45<00:00, 11.39s/it]"
          ]
        },
        {
          "output_type": "stream",
          "name": "stdout",
          "text": [
            "                   all        105       1393      0.827      0.722      0.828      0.583\n"
          ]
        },
        {
          "output_type": "stream",
          "name": "stderr",
          "text": [
            "\n"
          ]
        },
        {
          "output_type": "stream",
          "name": "stdout",
          "text": [
            "\n",
            "      Epoch    GPU_mem   box_loss   cls_loss   dfl_loss  Instances       Size\n"
          ]
        },
        {
          "output_type": "stream",
          "name": "stderr",
          "text": [
            "     68/100         0G      1.199     0.9113      1.191         43        640: 100%|██████████| 7/7 [01:43<00:00, 14.77s/it]\n",
            "                 Class     Images  Instances      Box(P          R      mAP50  mAP50-95): 100%|██████████| 4/4 [00:43<00:00, 10.83s/it]"
          ]
        },
        {
          "output_type": "stream",
          "name": "stdout",
          "text": [
            "                   all        105       1393      0.824      0.746      0.839      0.595\n"
          ]
        },
        {
          "output_type": "stream",
          "name": "stderr",
          "text": [
            "\n"
          ]
        },
        {
          "output_type": "stream",
          "name": "stdout",
          "text": [
            "\n",
            "      Epoch    GPU_mem   box_loss   cls_loss   dfl_loss  Instances       Size\n"
          ]
        },
        {
          "output_type": "stream",
          "name": "stderr",
          "text": [
            "     69/100         0G      1.092     0.8853      1.161         30        640: 100%|██████████| 7/7 [01:37<00:00, 13.99s/it]\n",
            "                 Class     Images  Instances      Box(P          R      mAP50  mAP50-95): 100%|██████████| 4/4 [00:44<00:00, 11.09s/it]"
          ]
        },
        {
          "output_type": "stream",
          "name": "stdout",
          "text": [
            "                   all        105       1393      0.824      0.762      0.854      0.609\n"
          ]
        },
        {
          "output_type": "stream",
          "name": "stderr",
          "text": [
            "\n"
          ]
        },
        {
          "output_type": "stream",
          "name": "stdout",
          "text": [
            "\n",
            "      Epoch    GPU_mem   box_loss   cls_loss   dfl_loss  Instances       Size\n"
          ]
        },
        {
          "output_type": "stream",
          "name": "stderr",
          "text": [
            "     70/100         0G      1.099     0.8715      1.163         59        640: 100%|██████████| 7/7 [01:46<00:00, 15.14s/it]\n",
            "                 Class     Images  Instances      Box(P          R      mAP50  mAP50-95): 100%|██████████| 4/4 [00:42<00:00, 10.73s/it]"
          ]
        },
        {
          "output_type": "stream",
          "name": "stdout",
          "text": [
            "                   all        105       1393      0.873      0.731      0.852      0.606\n"
          ]
        },
        {
          "output_type": "stream",
          "name": "stderr",
          "text": [
            "\n"
          ]
        },
        {
          "output_type": "stream",
          "name": "stdout",
          "text": [
            "\n",
            "      Epoch    GPU_mem   box_loss   cls_loss   dfl_loss  Instances       Size\n"
          ]
        },
        {
          "output_type": "stream",
          "name": "stderr",
          "text": [
            "     71/100         0G      1.146      1.013      1.211         31        640: 100%|██████████| 7/7 [01:39<00:00, 14.16s/it]\n",
            "                 Class     Images  Instances      Box(P          R      mAP50  mAP50-95): 100%|██████████| 4/4 [00:44<00:00, 11.03s/it]"
          ]
        },
        {
          "output_type": "stream",
          "name": "stdout",
          "text": [
            "                   all        105       1393      0.876      0.725       0.85      0.605\n"
          ]
        },
        {
          "output_type": "stream",
          "name": "stderr",
          "text": [
            "\n"
          ]
        },
        {
          "output_type": "stream",
          "name": "stdout",
          "text": [
            "\n",
            "      Epoch    GPU_mem   box_loss   cls_loss   dfl_loss  Instances       Size\n"
          ]
        },
        {
          "output_type": "stream",
          "name": "stderr",
          "text": [
            "     72/100         0G      1.099     0.8776      1.175         65        640: 100%|██████████| 7/7 [01:40<00:00, 14.40s/it]\n",
            "                 Class     Images  Instances      Box(P          R      mAP50  mAP50-95): 100%|██████████| 4/4 [00:43<00:00, 10.97s/it]"
          ]
        },
        {
          "output_type": "stream",
          "name": "stdout",
          "text": [
            "                   all        105       1393      0.863       0.73      0.844      0.606\n"
          ]
        },
        {
          "output_type": "stream",
          "name": "stderr",
          "text": [
            "\n"
          ]
        },
        {
          "output_type": "stream",
          "name": "stdout",
          "text": [
            "\n",
            "      Epoch    GPU_mem   box_loss   cls_loss   dfl_loss  Instances       Size\n"
          ]
        },
        {
          "output_type": "stream",
          "name": "stderr",
          "text": [
            "     73/100         0G      1.076      0.816      1.126         85        640: 100%|██████████| 7/7 [01:43<00:00, 14.81s/it]\n",
            "                 Class     Images  Instances      Box(P          R      mAP50  mAP50-95): 100%|██████████| 4/4 [00:43<00:00, 10.99s/it]"
          ]
        },
        {
          "output_type": "stream",
          "name": "stdout",
          "text": [
            "                   all        105       1393      0.845      0.736      0.846      0.609\n"
          ]
        },
        {
          "output_type": "stream",
          "name": "stderr",
          "text": [
            "\n"
          ]
        },
        {
          "output_type": "stream",
          "name": "stdout",
          "text": [
            "\n",
            "      Epoch    GPU_mem   box_loss   cls_loss   dfl_loss  Instances       Size\n"
          ]
        },
        {
          "output_type": "stream",
          "name": "stderr",
          "text": [
            "     74/100         0G      1.055     0.8079      1.145         49        640: 100%|██████████| 7/7 [01:42<00:00, 14.70s/it]\n",
            "                 Class     Images  Instances      Box(P          R      mAP50  mAP50-95): 100%|██████████| 4/4 [00:43<00:00, 10.89s/it]"
          ]
        },
        {
          "output_type": "stream",
          "name": "stdout",
          "text": [
            "                   all        105       1393      0.901       0.72      0.855      0.627\n"
          ]
        },
        {
          "output_type": "stream",
          "name": "stderr",
          "text": [
            "\n"
          ]
        },
        {
          "output_type": "stream",
          "name": "stdout",
          "text": [
            "\n",
            "      Epoch    GPU_mem   box_loss   cls_loss   dfl_loss  Instances       Size\n"
          ]
        },
        {
          "output_type": "stream",
          "name": "stderr",
          "text": [
            "     75/100         0G      1.066     0.8298      1.178         50        640: 100%|██████████| 7/7 [01:40<00:00, 14.36s/it]\n",
            "                 Class     Images  Instances      Box(P          R      mAP50  mAP50-95): 100%|██████████| 4/4 [00:51<00:00, 12.84s/it]"
          ]
        },
        {
          "output_type": "stream",
          "name": "stdout",
          "text": [
            "                   all        105       1393      0.846      0.763      0.862      0.634\n"
          ]
        },
        {
          "output_type": "stream",
          "name": "stderr",
          "text": [
            "\n"
          ]
        },
        {
          "output_type": "stream",
          "name": "stdout",
          "text": [
            "\n",
            "      Epoch    GPU_mem   box_loss   cls_loss   dfl_loss  Instances       Size\n"
          ]
        },
        {
          "output_type": "stream",
          "name": "stderr",
          "text": [
            "     76/100         0G      1.016     0.7706      1.087         29        640: 100%|██████████| 7/7 [01:50<00:00, 15.71s/it]\n",
            "                 Class     Images  Instances      Box(P          R      mAP50  mAP50-95): 100%|██████████| 4/4 [00:44<00:00, 11.06s/it]"
          ]
        },
        {
          "output_type": "stream",
          "name": "stdout",
          "text": [
            "                   all        105       1393      0.846      0.763       0.86      0.624\n"
          ]
        },
        {
          "output_type": "stream",
          "name": "stderr",
          "text": [
            "\n"
          ]
        },
        {
          "output_type": "stream",
          "name": "stdout",
          "text": [
            "\n",
            "      Epoch    GPU_mem   box_loss   cls_loss   dfl_loss  Instances       Size\n"
          ]
        },
        {
          "output_type": "stream",
          "name": "stderr",
          "text": [
            "     77/100         0G      1.048     0.8542      1.181         73        640: 100%|██████████| 7/7 [01:38<00:00, 14.02s/it]\n",
            "                 Class     Images  Instances      Box(P          R      mAP50  mAP50-95): 100%|██████████| 4/4 [00:43<00:00, 10.98s/it]"
          ]
        },
        {
          "output_type": "stream",
          "name": "stdout",
          "text": [
            "                   all        105       1393      0.855      0.757      0.858      0.624\n"
          ]
        },
        {
          "output_type": "stream",
          "name": "stderr",
          "text": [
            "\n"
          ]
        },
        {
          "output_type": "stream",
          "name": "stdout",
          "text": [
            "\n",
            "      Epoch    GPU_mem   box_loss   cls_loss   dfl_loss  Instances       Size\n"
          ]
        },
        {
          "output_type": "stream",
          "name": "stderr",
          "text": [
            "     78/100         0G      1.113     0.8524      1.183         73        640: 100%|██████████| 7/7 [01:40<00:00, 14.33s/it]\n",
            "                 Class     Images  Instances      Box(P          R      mAP50  mAP50-95): 100%|██████████| 4/4 [00:43<00:00, 10.78s/it]"
          ]
        },
        {
          "output_type": "stream",
          "name": "stdout",
          "text": [
            "                   all        105       1393      0.863      0.758       0.86       0.63\n"
          ]
        },
        {
          "output_type": "stream",
          "name": "stderr",
          "text": [
            "\n"
          ]
        },
        {
          "output_type": "stream",
          "name": "stdout",
          "text": [
            "\n",
            "      Epoch    GPU_mem   box_loss   cls_loss   dfl_loss  Instances       Size\n"
          ]
        },
        {
          "output_type": "stream",
          "name": "stderr",
          "text": [
            "     79/100         0G      1.042     0.8136      1.136         30        640: 100%|██████████| 7/7 [01:47<00:00, 15.42s/it]\n",
            "                 Class     Images  Instances      Box(P          R      mAP50  mAP50-95): 100%|██████████| 4/4 [00:46<00:00, 11.63s/it]"
          ]
        },
        {
          "output_type": "stream",
          "name": "stdout",
          "text": [
            "                   all        105       1393      0.903      0.749      0.861       0.64\n"
          ]
        },
        {
          "output_type": "stream",
          "name": "stderr",
          "text": [
            "\n"
          ]
        },
        {
          "output_type": "stream",
          "name": "stdout",
          "text": [
            "\n",
            "      Epoch    GPU_mem   box_loss   cls_loss   dfl_loss  Instances       Size\n"
          ]
        },
        {
          "output_type": "stream",
          "name": "stderr",
          "text": [
            "     80/100         0G      1.079     0.8493      1.203         53        640: 100%|██████████| 7/7 [01:33<00:00, 13.42s/it]\n",
            "                 Class     Images  Instances      Box(P          R      mAP50  mAP50-95): 100%|██████████| 4/4 [00:43<00:00, 10.92s/it]"
          ]
        },
        {
          "output_type": "stream",
          "name": "stdout",
          "text": [
            "                   all        105       1393      0.902      0.746      0.869      0.648\n"
          ]
        },
        {
          "output_type": "stream",
          "name": "stderr",
          "text": [
            "\n"
          ]
        },
        {
          "output_type": "stream",
          "name": "stdout",
          "text": [
            "\n",
            "      Epoch    GPU_mem   box_loss   cls_loss   dfl_loss  Instances       Size\n"
          ]
        },
        {
          "output_type": "stream",
          "name": "stderr",
          "text": [
            "     81/100         0G      1.025     0.8124      1.145         54        640: 100%|██████████| 7/7 [01:38<00:00, 14.13s/it]\n",
            "                 Class     Images  Instances      Box(P          R      mAP50  mAP50-95): 100%|██████████| 4/4 [00:42<00:00, 10.71s/it]"
          ]
        },
        {
          "output_type": "stream",
          "name": "stdout",
          "text": [
            "                   all        105       1393       0.91      0.746      0.873      0.648\n"
          ]
        },
        {
          "output_type": "stream",
          "name": "stderr",
          "text": [
            "\n"
          ]
        },
        {
          "output_type": "stream",
          "name": "stdout",
          "text": [
            "\n",
            "      Epoch    GPU_mem   box_loss   cls_loss   dfl_loss  Instances       Size\n"
          ]
        },
        {
          "output_type": "stream",
          "name": "stderr",
          "text": [
            "     82/100         0G     0.9703     0.7192      1.072         68        640: 100%|██████████| 7/7 [01:45<00:00, 15.13s/it]\n",
            "                 Class     Images  Instances      Box(P          R      mAP50  mAP50-95): 100%|██████████| 4/4 [00:43<00:00, 10.88s/it]"
          ]
        },
        {
          "output_type": "stream",
          "name": "stdout",
          "text": [
            "                   all        105       1393      0.918      0.745      0.874      0.655\n"
          ]
        },
        {
          "output_type": "stream",
          "name": "stderr",
          "text": [
            "\n"
          ]
        },
        {
          "output_type": "stream",
          "name": "stdout",
          "text": [
            "\n",
            "      Epoch    GPU_mem   box_loss   cls_loss   dfl_loss  Instances       Size\n"
          ]
        },
        {
          "output_type": "stream",
          "name": "stderr",
          "text": [
            "     83/100         0G      1.039     0.8284      1.096        397        640: 100%|██████████| 7/7 [01:40<00:00, 14.34s/it]\n",
            "                 Class     Images  Instances      Box(P          R      mAP50  mAP50-95): 100%|██████████| 4/4 [00:42<00:00, 10.72s/it]"
          ]
        },
        {
          "output_type": "stream",
          "name": "stdout",
          "text": [
            "                   all        105       1393      0.895      0.778      0.879      0.659\n"
          ]
        },
        {
          "output_type": "stream",
          "name": "stderr",
          "text": [
            "\n"
          ]
        },
        {
          "output_type": "stream",
          "name": "stdout",
          "text": [
            "\n",
            "      Epoch    GPU_mem   box_loss   cls_loss   dfl_loss  Instances       Size\n"
          ]
        },
        {
          "output_type": "stream",
          "name": "stderr",
          "text": [
            "     84/100         0G      1.021     0.7785      1.134         75        640: 100%|██████████| 7/7 [01:40<00:00, 14.38s/it]\n",
            "                 Class     Images  Instances      Box(P          R      mAP50  mAP50-95): 100%|██████████| 4/4 [00:44<00:00, 11.13s/it]"
          ]
        },
        {
          "output_type": "stream",
          "name": "stdout",
          "text": [
            "                   all        105       1393      0.903       0.78      0.881      0.658\n"
          ]
        },
        {
          "output_type": "stream",
          "name": "stderr",
          "text": [
            "\n"
          ]
        },
        {
          "output_type": "stream",
          "name": "stdout",
          "text": [
            "\n",
            "      Epoch    GPU_mem   box_loss   cls_loss   dfl_loss  Instances       Size\n"
          ]
        },
        {
          "output_type": "stream",
          "name": "stderr",
          "text": [
            "     85/100         0G     0.9897     0.8207      1.155         56        640: 100%|██████████| 7/7 [01:38<00:00, 14.07s/it]\n",
            "                 Class     Images  Instances      Box(P          R      mAP50  mAP50-95): 100%|██████████| 4/4 [00:45<00:00, 11.34s/it]"
          ]
        },
        {
          "output_type": "stream",
          "name": "stdout",
          "text": [
            "                   all        105       1393      0.898      0.777       0.88      0.662\n"
          ]
        },
        {
          "output_type": "stream",
          "name": "stderr",
          "text": [
            "\n"
          ]
        },
        {
          "output_type": "stream",
          "name": "stdout",
          "text": [
            "\n",
            "      Epoch    GPU_mem   box_loss   cls_loss   dfl_loss  Instances       Size\n"
          ]
        },
        {
          "output_type": "stream",
          "name": "stderr",
          "text": [
            "     86/100         0G      1.053      0.827      1.138         87        640: 100%|██████████| 7/7 [01:52<00:00, 16.13s/it]\n",
            "                 Class     Images  Instances      Box(P          R      mAP50  mAP50-95): 100%|██████████| 4/4 [00:44<00:00, 11.02s/it]"
          ]
        },
        {
          "output_type": "stream",
          "name": "stdout",
          "text": [
            "                   all        105       1393      0.912      0.755      0.878      0.665\n"
          ]
        },
        {
          "output_type": "stream",
          "name": "stderr",
          "text": [
            "\n"
          ]
        },
        {
          "output_type": "stream",
          "name": "stdout",
          "text": [
            "\n",
            "      Epoch    GPU_mem   box_loss   cls_loss   dfl_loss  Instances       Size\n"
          ]
        },
        {
          "output_type": "stream",
          "name": "stderr",
          "text": [
            "     87/100         0G      0.996     0.7388      1.088        101        640: 100%|██████████| 7/7 [01:45<00:00, 15.08s/it]\n",
            "                 Class     Images  Instances      Box(P          R      mAP50  mAP50-95): 100%|██████████| 4/4 [00:42<00:00, 10.60s/it]"
          ]
        },
        {
          "output_type": "stream",
          "name": "stdout",
          "text": [
            "                   all        105       1393      0.905      0.768      0.879      0.667\n"
          ]
        },
        {
          "output_type": "stream",
          "name": "stderr",
          "text": [
            "\n"
          ]
        },
        {
          "output_type": "stream",
          "name": "stdout",
          "text": [
            "\n",
            "      Epoch    GPU_mem   box_loss   cls_loss   dfl_loss  Instances       Size\n"
          ]
        },
        {
          "output_type": "stream",
          "name": "stderr",
          "text": [
            "     88/100         0G       1.03     0.8719      1.129         18        640: 100%|██████████| 7/7 [01:58<00:00, 16.88s/it]\n",
            "                 Class     Images  Instances      Box(P          R      mAP50  mAP50-95): 100%|██████████| 4/4 [00:43<00:00, 10.84s/it]"
          ]
        },
        {
          "output_type": "stream",
          "name": "stdout",
          "text": [
            "                   all        105       1393      0.904      0.775      0.878       0.67\n"
          ]
        },
        {
          "output_type": "stream",
          "name": "stderr",
          "text": [
            "\n"
          ]
        },
        {
          "output_type": "stream",
          "name": "stdout",
          "text": [
            "\n",
            "      Epoch    GPU_mem   box_loss   cls_loss   dfl_loss  Instances       Size\n"
          ]
        },
        {
          "output_type": "stream",
          "name": "stderr",
          "text": [
            "     89/100         0G      1.062     0.7737        1.1         52        640: 100%|██████████| 7/7 [01:46<00:00, 15.24s/it]\n",
            "                 Class     Images  Instances      Box(P          R      mAP50  mAP50-95): 100%|██████████| 4/4 [00:42<00:00, 10.75s/it]"
          ]
        },
        {
          "output_type": "stream",
          "name": "stdout",
          "text": [
            "                   all        105       1393      0.917       0.78      0.879      0.668\n"
          ]
        },
        {
          "output_type": "stream",
          "name": "stderr",
          "text": [
            "\n"
          ]
        },
        {
          "output_type": "stream",
          "name": "stdout",
          "text": [
            "\n",
            "      Epoch    GPU_mem   box_loss   cls_loss   dfl_loss  Instances       Size\n"
          ]
        },
        {
          "output_type": "stream",
          "name": "stderr",
          "text": [
            "     90/100         0G     0.9573     0.7796      1.085         98        640: 100%|██████████| 7/7 [01:38<00:00, 14.12s/it]\n",
            "                 Class     Images  Instances      Box(P          R      mAP50  mAP50-95): 100%|██████████| 4/4 [00:44<00:00, 11.08s/it]"
          ]
        },
        {
          "output_type": "stream",
          "name": "stdout",
          "text": [
            "                   all        105       1393      0.883      0.797      0.881      0.675\n"
          ]
        },
        {
          "output_type": "stream",
          "name": "stderr",
          "text": [
            "\n"
          ]
        },
        {
          "output_type": "stream",
          "name": "stdout",
          "text": [
            "Closing dataloader mosaic\n",
            "\u001b[34m\u001b[1malbumentations: \u001b[0mBlur(p=0.01, blur_limit=(3, 7)), MedianBlur(p=0.01, blur_limit=(3, 7)), ToGray(p=0.01, num_output_channels=3, method='weighted_average'), CLAHE(p=0.01, clip_limit=(1.0, 4.0), tile_grid_size=(8, 8))\n",
            "\n",
            "      Epoch    GPU_mem   box_loss   cls_loss   dfl_loss  Instances       Size\n"
          ]
        },
        {
          "output_type": "stream",
          "name": "stderr",
          "text": [
            "     91/100         0G      1.046      1.017      1.164         24        640: 100%|██████████| 7/7 [01:38<00:00, 14.00s/it]\n",
            "                 Class     Images  Instances      Box(P          R      mAP50  mAP50-95): 100%|██████████| 4/4 [00:43<00:00, 10.87s/it]"
          ]
        },
        {
          "output_type": "stream",
          "name": "stdout",
          "text": [
            "                   all        105       1393      0.859      0.806       0.88      0.676\n"
          ]
        },
        {
          "output_type": "stream",
          "name": "stderr",
          "text": [
            "\n"
          ]
        },
        {
          "output_type": "stream",
          "name": "stdout",
          "text": [
            "\n",
            "      Epoch    GPU_mem   box_loss   cls_loss   dfl_loss  Instances       Size\n"
          ]
        },
        {
          "output_type": "stream",
          "name": "stderr",
          "text": [
            "     92/100         0G     0.9823     0.8261      1.117         25        640: 100%|██████████| 7/7 [01:42<00:00, 14.67s/it]\n",
            "                 Class     Images  Instances      Box(P          R      mAP50  mAP50-95): 100%|██████████| 4/4 [00:43<00:00, 10.86s/it]"
          ]
        },
        {
          "output_type": "stream",
          "name": "stdout",
          "text": [
            "                   all        105       1393      0.865      0.816      0.882      0.664\n"
          ]
        },
        {
          "output_type": "stream",
          "name": "stderr",
          "text": [
            "\n"
          ]
        },
        {
          "output_type": "stream",
          "name": "stdout",
          "text": [
            "\n",
            "      Epoch    GPU_mem   box_loss   cls_loss   dfl_loss  Instances       Size\n"
          ]
        },
        {
          "output_type": "stream",
          "name": "stderr",
          "text": [
            "     93/100         0G      1.054     0.8181      1.151         45        640: 100%|██████████| 7/7 [01:38<00:00, 14.03s/it]\n",
            "                 Class     Images  Instances      Box(P          R      mAP50  mAP50-95): 100%|██████████| 4/4 [00:44<00:00, 11.09s/it]"
          ]
        },
        {
          "output_type": "stream",
          "name": "stdout",
          "text": [
            "                   all        105       1393      0.853       0.82      0.883      0.659\n"
          ]
        },
        {
          "output_type": "stream",
          "name": "stderr",
          "text": [
            "\n"
          ]
        },
        {
          "output_type": "stream",
          "name": "stdout",
          "text": [
            "\n",
            "      Epoch    GPU_mem   box_loss   cls_loss   dfl_loss  Instances       Size\n"
          ]
        },
        {
          "output_type": "stream",
          "name": "stderr",
          "text": [
            "     94/100         0G       1.03      0.814      1.148         10        640: 100%|██████████| 7/7 [01:39<00:00, 14.16s/it]\n",
            "                 Class     Images  Instances      Box(P          R      mAP50  mAP50-95): 100%|██████████| 4/4 [00:44<00:00, 11.23s/it]"
          ]
        },
        {
          "output_type": "stream",
          "name": "stdout",
          "text": [
            "                   all        105       1393      0.852      0.826       0.88      0.656\n"
          ]
        },
        {
          "output_type": "stream",
          "name": "stderr",
          "text": [
            "\n"
          ]
        },
        {
          "output_type": "stream",
          "name": "stdout",
          "text": [
            "\n",
            "      Epoch    GPU_mem   box_loss   cls_loss   dfl_loss  Instances       Size\n"
          ]
        },
        {
          "output_type": "stream",
          "name": "stderr",
          "text": [
            "     95/100         0G      1.002     0.8281      1.171         35        640: 100%|██████████| 7/7 [01:37<00:00, 13.98s/it]\n",
            "                 Class     Images  Instances      Box(P          R      mAP50  mAP50-95): 100%|██████████| 4/4 [00:42<00:00, 10.65s/it]"
          ]
        },
        {
          "output_type": "stream",
          "name": "stdout",
          "text": [
            "                   all        105       1393      0.878      0.796      0.883      0.661\n"
          ]
        },
        {
          "output_type": "stream",
          "name": "stderr",
          "text": [
            "\n"
          ]
        },
        {
          "output_type": "stream",
          "name": "stdout",
          "text": [
            "\n",
            "      Epoch    GPU_mem   box_loss   cls_loss   dfl_loss  Instances       Size\n"
          ]
        },
        {
          "output_type": "stream",
          "name": "stderr",
          "text": [
            "     96/100         0G      1.048     0.8447      1.151         43        640: 100%|██████████| 7/7 [01:44<00:00, 14.90s/it]\n",
            "                 Class     Images  Instances      Box(P          R      mAP50  mAP50-95): 100%|██████████| 4/4 [00:45<00:00, 11.44s/it]"
          ]
        },
        {
          "output_type": "stream",
          "name": "stdout",
          "text": [
            "                   all        105       1393      0.895      0.782      0.881      0.669\n"
          ]
        },
        {
          "output_type": "stream",
          "name": "stderr",
          "text": [
            "\n"
          ]
        },
        {
          "output_type": "stream",
          "name": "stdout",
          "text": [
            "\n",
            "      Epoch    GPU_mem   box_loss   cls_loss   dfl_loss  Instances       Size\n"
          ]
        },
        {
          "output_type": "stream",
          "name": "stderr",
          "text": [
            "     97/100         0G     0.9717     0.7825      1.104         22        640: 100%|██████████| 7/7 [01:38<00:00, 14.13s/it]\n",
            "                 Class     Images  Instances      Box(P          R      mAP50  mAP50-95): 100%|██████████| 4/4 [00:43<00:00, 10.90s/it]"
          ]
        },
        {
          "output_type": "stream",
          "name": "stdout",
          "text": [
            "                   all        105       1393        0.9      0.777      0.883      0.673\n"
          ]
        },
        {
          "output_type": "stream",
          "name": "stderr",
          "text": [
            "\n"
          ]
        },
        {
          "output_type": "stream",
          "name": "stdout",
          "text": [
            "\n",
            "      Epoch    GPU_mem   box_loss   cls_loss   dfl_loss  Instances       Size\n"
          ]
        },
        {
          "output_type": "stream",
          "name": "stderr",
          "text": [
            "     98/100         0G     0.9673      1.006      1.116        249        640: 100%|██████████| 7/7 [01:34<00:00, 13.47s/it]\n",
            "                 Class     Images  Instances      Box(P          R      mAP50  mAP50-95): 100%|██████████| 4/4 [00:43<00:00, 10.99s/it]"
          ]
        },
        {
          "output_type": "stream",
          "name": "stdout",
          "text": [
            "                   all        105       1393      0.914      0.781      0.888      0.678\n"
          ]
        },
        {
          "output_type": "stream",
          "name": "stderr",
          "text": [
            "\n"
          ]
        },
        {
          "output_type": "stream",
          "name": "stdout",
          "text": [
            "\n",
            "      Epoch    GPU_mem   box_loss   cls_loss   dfl_loss  Instances       Size\n"
          ]
        },
        {
          "output_type": "stream",
          "name": "stderr",
          "text": [
            "     99/100         0G     0.9725     0.7843      1.101         38        640: 100%|██████████| 7/7 [01:42<00:00, 14.58s/it]\n",
            "                 Class     Images  Instances      Box(P          R      mAP50  mAP50-95): 100%|██████████| 4/4 [00:43<00:00, 10.93s/it]"
          ]
        },
        {
          "output_type": "stream",
          "name": "stdout",
          "text": [
            "                   all        105       1393      0.902      0.779      0.887      0.682\n"
          ]
        },
        {
          "output_type": "stream",
          "name": "stderr",
          "text": [
            "\n"
          ]
        },
        {
          "output_type": "stream",
          "name": "stdout",
          "text": [
            "\n",
            "      Epoch    GPU_mem   box_loss   cls_loss   dfl_loss  Instances       Size\n"
          ]
        },
        {
          "output_type": "stream",
          "name": "stderr",
          "text": [
            "    100/100         0G     0.9646     0.8046      1.143         19        640: 100%|██████████| 7/7 [01:35<00:00, 13.64s/it]\n",
            "                 Class     Images  Instances      Box(P          R      mAP50  mAP50-95): 100%|██████████| 4/4 [00:48<00:00, 12.14s/it]"
          ]
        },
        {
          "output_type": "stream",
          "name": "stdout",
          "text": [
            "                   all        105       1393      0.885      0.798      0.887      0.684\n"
          ]
        },
        {
          "output_type": "stream",
          "name": "stderr",
          "text": [
            "\n"
          ]
        },
        {
          "output_type": "stream",
          "name": "stdout",
          "text": [
            "\n",
            "100 epochs completed in 4.182 hours.\n",
            "Optimizer stripped from runs/detect/train2/weights/last.pt, 6.2MB\n",
            "Optimizer stripped from runs/detect/train2/weights/best.pt, 6.2MB\n",
            "\n",
            "Validating runs/detect/train2/weights/best.pt...\n",
            "Ultralytics 8.3.88 🚀 Python-3.11.11 torch-2.5.1+cu124 CPU (Intel Xeon 2.20GHz)\n",
            "Model summary (fused): 72 layers, 3,006,038 parameters, 0 gradients, 8.1 GFLOPs\n"
          ]
        },
        {
          "output_type": "stream",
          "name": "stderr",
          "text": [
            "                 Class     Images  Instances      Box(P          R      mAP50  mAP50-95): 100%|██████████| 4/4 [00:27<00:00,  6.95s/it]\n"
          ]
        },
        {
          "output_type": "stream",
          "name": "stdout",
          "text": [
            "                   all        105       1393      0.886      0.798      0.886      0.684\n",
            "                  Suja         68       1207      0.898      0.844      0.899      0.662\n",
            "                 Limpa         38        186      0.873      0.753      0.873      0.706\n",
            "Speed: 2.1ms preprocess, 206.0ms inference, 0.0ms loss, 4.5ms postprocess per image\n",
            "Results saved to \u001b[1mruns/detect/train2\u001b[0m\n"
          ]
        }
      ]
    },
    {
      "cell_type": "code",
      "source": [
        "!ls -lh runs/detect/train2/weights/"
      ],
      "metadata": {
        "colab": {
          "base_uri": "https://localhost:8080/"
        },
        "id": "MOj3QFrP9t27",
        "outputId": "f0577583-21be-43d2-954d-39ff2d2100d8"
      },
      "execution_count": null,
      "outputs": [
        {
          "output_type": "stream",
          "name": "stdout",
          "text": [
            "total 12M\n",
            "-rw-r--r-- 1 root root 6.0M Mar 12 00:49 best.pt\n",
            "-rw-r--r-- 1 root root 6.0M Mar 12 00:49 last.pt\n"
          ]
        }
      ]
    },
    {
      "cell_type": "code",
      "source": [
        "model = YOLO(\"runs/detect/train2/weights/best.pt\")\n",
        "\n",
        "# Rodar a detecção no vídeo\n",
        "results = model.predict(source=\"/content/sample_data/video01_placasSolares.mp4\", save=True, show=True)"
      ],
      "metadata": {
        "colab": {
          "base_uri": "https://localhost:8080/"
        },
        "id": "9eCgvt4T-Nvd",
        "outputId": "8b00615a-2430-48e4-ff3c-00114b0e095e"
      },
      "execution_count": null,
      "outputs": [
        {
          "output_type": "stream",
          "name": "stdout",
          "text": [
            "WARNING ⚠️ Environment does not support cv2.imshow() or PIL Image.show()\n",
            "\n",
            "\n",
            "\n",
            "WARNING ⚠️ inference results will accumulate in RAM unless `stream=True` is passed, causing potential out-of-memory\n",
            "errors for large sources or long-running streams and videos. See https://docs.ultralytics.com/modes/predict/ for help.\n",
            "\n",
            "Example:\n",
            "    results = model(source=..., stream=True)  # generator of Results objects\n",
            "    for r in results:\n",
            "        boxes = r.boxes  # Boxes object for bbox outputs\n",
            "        masks = r.masks  # Masks object for segment masks outputs\n",
            "        probs = r.probs  # Class probabilities for classification outputs\n",
            "\n",
            "video 1/1 (frame 1/121) /content/sample_data/video01_placasSolares.mp4: 384x640 1 Suja, 201.9ms\n",
            "video 1/1 (frame 2/121) /content/sample_data/video01_placasSolares.mp4: 384x640 2 Sujas, 168.3ms\n",
            "video 1/1 (frame 3/121) /content/sample_data/video01_placasSolares.mp4: 384x640 1 Suja, 157.7ms\n",
            "video 1/1 (frame 4/121) /content/sample_data/video01_placasSolares.mp4: 384x640 1 Suja, 156.9ms\n",
            "video 1/1 (frame 5/121) /content/sample_data/video01_placasSolares.mp4: 384x640 1 Suja, 151.8ms\n",
            "video 1/1 (frame 6/121) /content/sample_data/video01_placasSolares.mp4: 384x640 2 Sujas, 153.1ms\n",
            "video 1/1 (frame 7/121) /content/sample_data/video01_placasSolares.mp4: 384x640 1 Suja, 160.8ms\n",
            "video 1/1 (frame 8/121) /content/sample_data/video01_placasSolares.mp4: 384x640 1 Suja, 158.2ms\n",
            "video 1/1 (frame 9/121) /content/sample_data/video01_placasSolares.mp4: 384x640 2 Sujas, 155.8ms\n",
            "video 1/1 (frame 10/121) /content/sample_data/video01_placasSolares.mp4: 384x640 3 Sujas, 158.3ms\n",
            "video 1/1 (frame 11/121) /content/sample_data/video01_placasSolares.mp4: 384x640 4 Sujas, 157.3ms\n",
            "video 1/1 (frame 12/121) /content/sample_data/video01_placasSolares.mp4: 384x640 3 Sujas, 157.4ms\n",
            "video 1/1 (frame 13/121) /content/sample_data/video01_placasSolares.mp4: 384x640 3 Sujas, 158.8ms\n",
            "video 1/1 (frame 14/121) /content/sample_data/video01_placasSolares.mp4: 384x640 3 Sujas, 159.5ms\n",
            "video 1/1 (frame 15/121) /content/sample_data/video01_placasSolares.mp4: 384x640 1 Suja, 165.9ms\n",
            "video 1/1 (frame 16/121) /content/sample_data/video01_placasSolares.mp4: 384x640 2 Sujas, 159.1ms\n",
            "video 1/1 (frame 17/121) /content/sample_data/video01_placasSolares.mp4: 384x640 1 Suja, 150.6ms\n",
            "video 1/1 (frame 18/121) /content/sample_data/video01_placasSolares.mp4: 384x640 3 Sujas, 158.4ms\n",
            "video 1/1 (frame 19/121) /content/sample_data/video01_placasSolares.mp4: 384x640 2 Sujas, 147.2ms\n",
            "video 1/1 (frame 20/121) /content/sample_data/video01_placasSolares.mp4: 384x640 1 Suja, 159.8ms\n",
            "video 1/1 (frame 21/121) /content/sample_data/video01_placasSolares.mp4: 384x640 2 Sujas, 156.7ms\n",
            "video 1/1 (frame 22/121) /content/sample_data/video01_placasSolares.mp4: 384x640 3 Sujas, 149.4ms\n",
            "video 1/1 (frame 23/121) /content/sample_data/video01_placasSolares.mp4: 384x640 1 Suja, 153.8ms\n",
            "video 1/1 (frame 24/121) /content/sample_data/video01_placasSolares.mp4: 384x640 3 Sujas, 144.1ms\n",
            "video 1/1 (frame 25/121) /content/sample_data/video01_placasSolares.mp4: 384x640 3 Sujas, 160.7ms\n",
            "video 1/1 (frame 26/121) /content/sample_data/video01_placasSolares.mp4: 384x640 3 Sujas, 154.9ms\n",
            "video 1/1 (frame 27/121) /content/sample_data/video01_placasSolares.mp4: 384x640 5 Sujas, 151.2ms\n",
            "video 1/1 (frame 28/121) /content/sample_data/video01_placasSolares.mp4: 384x640 1 Suja, 158.8ms\n",
            "video 1/1 (frame 29/121) /content/sample_data/video01_placasSolares.mp4: 384x640 1 Suja, 147.9ms\n",
            "video 1/1 (frame 30/121) /content/sample_data/video01_placasSolares.mp4: 384x640 2 Sujas, 161.8ms\n",
            "video 1/1 (frame 31/121) /content/sample_data/video01_placasSolares.mp4: 384x640 4 Sujas, 153.3ms\n",
            "video 1/1 (frame 32/121) /content/sample_data/video01_placasSolares.mp4: 384x640 2 Sujas, 149.3ms\n",
            "video 1/1 (frame 33/121) /content/sample_data/video01_placasSolares.mp4: 384x640 2 Sujas, 152.2ms\n",
            "video 1/1 (frame 34/121) /content/sample_data/video01_placasSolares.mp4: 384x640 3 Sujas, 153.3ms\n",
            "video 1/1 (frame 35/121) /content/sample_data/video01_placasSolares.mp4: 384x640 3 Sujas, 169.0ms\n",
            "video 1/1 (frame 36/121) /content/sample_data/video01_placasSolares.mp4: 384x640 4 Sujas, 157.4ms\n",
            "video 1/1 (frame 37/121) /content/sample_data/video01_placasSolares.mp4: 384x640 4 Sujas, 155.7ms\n",
            "video 1/1 (frame 38/121) /content/sample_data/video01_placasSolares.mp4: 384x640 3 Sujas, 159.0ms\n",
            "video 1/1 (frame 39/121) /content/sample_data/video01_placasSolares.mp4: 384x640 1 Suja, 146.2ms\n",
            "video 1/1 (frame 40/121) /content/sample_data/video01_placasSolares.mp4: 384x640 4 Sujas, 184.2ms\n",
            "video 1/1 (frame 41/121) /content/sample_data/video01_placasSolares.mp4: 384x640 2 Sujas, 154.6ms\n",
            "video 1/1 (frame 42/121) /content/sample_data/video01_placasSolares.mp4: 384x640 1 Suja, 145.4ms\n",
            "video 1/1 (frame 43/121) /content/sample_data/video01_placasSolares.mp4: 384x640 2 Sujas, 220.2ms\n",
            "video 1/1 (frame 44/121) /content/sample_data/video01_placasSolares.mp4: 384x640 2 Sujas, 255.6ms\n",
            "video 1/1 (frame 45/121) /content/sample_data/video01_placasSolares.mp4: 384x640 2 Sujas, 230.3ms\n",
            "video 1/1 (frame 46/121) /content/sample_data/video01_placasSolares.mp4: 384x640 2 Sujas, 228.8ms\n",
            "video 1/1 (frame 47/121) /content/sample_data/video01_placasSolares.mp4: 384x640 2 Sujas, 249.1ms\n",
            "video 1/1 (frame 48/121) /content/sample_data/video01_placasSolares.mp4: 384x640 2 Sujas, 248.4ms\n",
            "video 1/1 (frame 49/121) /content/sample_data/video01_placasSolares.mp4: 384x640 2 Sujas, 227.0ms\n",
            "video 1/1 (frame 50/121) /content/sample_data/video01_placasSolares.mp4: 384x640 2 Sujas, 220.7ms\n",
            "video 1/1 (frame 51/121) /content/sample_data/video01_placasSolares.mp4: 384x640 2 Sujas, 236.3ms\n",
            "video 1/1 (frame 52/121) /content/sample_data/video01_placasSolares.mp4: 384x640 2 Sujas, 222.0ms\n",
            "video 1/1 (frame 53/121) /content/sample_data/video01_placasSolares.mp4: 384x640 2 Sujas, 235.9ms\n",
            "video 1/1 (frame 54/121) /content/sample_data/video01_placasSolares.mp4: 384x640 2 Sujas, 250.7ms\n",
            "video 1/1 (frame 55/121) /content/sample_data/video01_placasSolares.mp4: 384x640 2 Sujas, 236.3ms\n",
            "video 1/1 (frame 56/121) /content/sample_data/video01_placasSolares.mp4: 384x640 2 Sujas, 234.0ms\n",
            "video 1/1 (frame 57/121) /content/sample_data/video01_placasSolares.mp4: 384x640 2 Sujas, 157.9ms\n",
            "video 1/1 (frame 58/121) /content/sample_data/video01_placasSolares.mp4: 384x640 2 Sujas, 169.0ms\n",
            "video 1/1 (frame 59/121) /content/sample_data/video01_placasSolares.mp4: 384x640 2 Sujas, 165.7ms\n",
            "video 1/1 (frame 60/121) /content/sample_data/video01_placasSolares.mp4: 384x640 2 Sujas, 151.5ms\n",
            "video 1/1 (frame 61/121) /content/sample_data/video01_placasSolares.mp4: 384x640 2 Sujas, 160.5ms\n",
            "video 1/1 (frame 62/121) /content/sample_data/video01_placasSolares.mp4: 384x640 2 Sujas, 154.1ms\n",
            "video 1/1 (frame 63/121) /content/sample_data/video01_placasSolares.mp4: 384x640 2 Sujas, 151.0ms\n",
            "video 1/1 (frame 64/121) /content/sample_data/video01_placasSolares.mp4: 384x640 2 Sujas, 154.4ms\n",
            "video 1/1 (frame 65/121) /content/sample_data/video01_placasSolares.mp4: 384x640 2 Sujas, 165.2ms\n",
            "video 1/1 (frame 66/121) /content/sample_data/video01_placasSolares.mp4: 384x640 2 Sujas, 151.2ms\n",
            "video 1/1 (frame 67/121) /content/sample_data/video01_placasSolares.mp4: 384x640 2 Sujas, 151.5ms\n",
            "video 1/1 (frame 68/121) /content/sample_data/video01_placasSolares.mp4: 384x640 2 Sujas, 163.9ms\n",
            "video 1/1 (frame 69/121) /content/sample_data/video01_placasSolares.mp4: 384x640 2 Sujas, 150.0ms\n",
            "video 1/1 (frame 70/121) /content/sample_data/video01_placasSolares.mp4: 384x640 2 Sujas, 152.4ms\n",
            "video 1/1 (frame 71/121) /content/sample_data/video01_placasSolares.mp4: 384x640 2 Sujas, 154.1ms\n",
            "video 1/1 (frame 72/121) /content/sample_data/video01_placasSolares.mp4: 384x640 2 Sujas, 154.1ms\n",
            "video 1/1 (frame 73/121) /content/sample_data/video01_placasSolares.mp4: 384x640 2 Sujas, 151.4ms\n",
            "video 1/1 (frame 74/121) /content/sample_data/video01_placasSolares.mp4: 384x640 2 Sujas, 160.9ms\n",
            "video 1/1 (frame 75/121) /content/sample_data/video01_placasSolares.mp4: 384x640 2 Sujas, 156.3ms\n",
            "video 1/1 (frame 76/121) /content/sample_data/video01_placasSolares.mp4: 384x640 2 Sujas, 149.9ms\n",
            "video 1/1 (frame 77/121) /content/sample_data/video01_placasSolares.mp4: 384x640 1 Suja, 156.5ms\n",
            "video 1/1 (frame 78/121) /content/sample_data/video01_placasSolares.mp4: 384x640 2 Sujas, 155.5ms\n",
            "video 1/1 (frame 79/121) /content/sample_data/video01_placasSolares.mp4: 384x640 2 Sujas, 153.9ms\n",
            "video 1/1 (frame 80/121) /content/sample_data/video01_placasSolares.mp4: 384x640 2 Sujas, 155.8ms\n",
            "video 1/1 (frame 81/121) /content/sample_data/video01_placasSolares.mp4: 384x640 2 Sujas, 146.3ms\n",
            "video 1/1 (frame 82/121) /content/sample_data/video01_placasSolares.mp4: 384x640 2 Sujas, 156.1ms\n",
            "video 1/1 (frame 83/121) /content/sample_data/video01_placasSolares.mp4: 384x640 2 Sujas, 152.4ms\n",
            "video 1/1 (frame 84/121) /content/sample_data/video01_placasSolares.mp4: 384x640 2 Sujas, 145.8ms\n",
            "video 1/1 (frame 85/121) /content/sample_data/video01_placasSolares.mp4: 384x640 2 Sujas, 152.7ms\n",
            "video 1/1 (frame 86/121) /content/sample_data/video01_placasSolares.mp4: 384x640 2 Sujas, 150.2ms\n",
            "video 1/1 (frame 87/121) /content/sample_data/video01_placasSolares.mp4: 384x640 2 Sujas, 169.3ms\n",
            "video 1/1 (frame 88/121) /content/sample_data/video01_placasSolares.mp4: 384x640 2 Sujas, 152.8ms\n",
            "video 1/1 (frame 89/121) /content/sample_data/video01_placasSolares.mp4: 384x640 2 Sujas, 153.0ms\n",
            "video 1/1 (frame 90/121) /content/sample_data/video01_placasSolares.mp4: 384x640 2 Sujas, 156.2ms\n",
            "video 1/1 (frame 91/121) /content/sample_data/video01_placasSolares.mp4: 384x640 2 Sujas, 160.1ms\n",
            "video 1/1 (frame 92/121) /content/sample_data/video01_placasSolares.mp4: 384x640 2 Sujas, 164.1ms\n",
            "video 1/1 (frame 93/121) /content/sample_data/video01_placasSolares.mp4: 384x640 2 Sujas, 148.1ms\n",
            "video 1/1 (frame 94/121) /content/sample_data/video01_placasSolares.mp4: 384x640 2 Sujas, 147.5ms\n",
            "video 1/1 (frame 95/121) /content/sample_data/video01_placasSolares.mp4: 384x640 2 Sujas, 153.7ms\n",
            "video 1/1 (frame 96/121) /content/sample_data/video01_placasSolares.mp4: 384x640 2 Sujas, 153.6ms\n",
            "video 1/1 (frame 97/121) /content/sample_data/video01_placasSolares.mp4: 384x640 2 Sujas, 165.5ms\n",
            "video 1/1 (frame 98/121) /content/sample_data/video01_placasSolares.mp4: 384x640 2 Sujas, 150.1ms\n",
            "video 1/1 (frame 99/121) /content/sample_data/video01_placasSolares.mp4: 384x640 2 Sujas, 152.0ms\n",
            "video 1/1 (frame 100/121) /content/sample_data/video01_placasSolares.mp4: 384x640 2 Sujas, 153.8ms\n",
            "video 1/1 (frame 101/121) /content/sample_data/video01_placasSolares.mp4: 384x640 2 Sujas, 153.9ms\n",
            "video 1/1 (frame 102/121) /content/sample_data/video01_placasSolares.mp4: 384x640 2 Sujas, 159.8ms\n",
            "video 1/1 (frame 103/121) /content/sample_data/video01_placasSolares.mp4: 384x640 2 Sujas, 150.4ms\n",
            "video 1/1 (frame 104/121) /content/sample_data/video01_placasSolares.mp4: 384x640 2 Sujas, 214.7ms\n",
            "video 1/1 (frame 105/121) /content/sample_data/video01_placasSolares.mp4: 384x640 2 Sujas, 242.1ms\n",
            "video 1/1 (frame 106/121) /content/sample_data/video01_placasSolares.mp4: 384x640 2 Sujas, 231.9ms\n",
            "video 1/1 (frame 107/121) /content/sample_data/video01_placasSolares.mp4: 384x640 2 Sujas, 230.7ms\n",
            "video 1/1 (frame 108/121) /content/sample_data/video01_placasSolares.mp4: 384x640 2 Sujas, 224.2ms\n",
            "video 1/1 (frame 109/121) /content/sample_data/video01_placasSolares.mp4: 384x640 2 Sujas, 231.3ms\n",
            "video 1/1 (frame 110/121) /content/sample_data/video01_placasSolares.mp4: 384x640 2 Sujas, 233.8ms\n",
            "video 1/1 (frame 111/121) /content/sample_data/video01_placasSolares.mp4: 384x640 2 Sujas, 231.9ms\n",
            "video 1/1 (frame 112/121) /content/sample_data/video01_placasSolares.mp4: 384x640 2 Sujas, 232.0ms\n",
            "video 1/1 (frame 113/121) /content/sample_data/video01_placasSolares.mp4: 384x640 2 Sujas, 233.3ms\n",
            "video 1/1 (frame 114/121) /content/sample_data/video01_placasSolares.mp4: 384x640 2 Sujas, 222.2ms\n",
            "video 1/1 (frame 115/121) /content/sample_data/video01_placasSolares.mp4: 384x640 2 Sujas, 241.2ms\n",
            "video 1/1 (frame 116/121) /content/sample_data/video01_placasSolares.mp4: 384x640 2 Sujas, 247.0ms\n",
            "video 1/1 (frame 117/121) /content/sample_data/video01_placasSolares.mp4: 384x640 2 Sujas, 226.7ms\n",
            "video 1/1 (frame 118/121) /content/sample_data/video01_placasSolares.mp4: 384x640 2 Sujas, 185.1ms\n",
            "video 1/1 (frame 119/121) /content/sample_data/video01_placasSolares.mp4: 384x640 2 Sujas, 142.6ms\n",
            "video 1/1 (frame 120/121) /content/sample_data/video01_placasSolares.mp4: 384x640 2 Sujas, 155.4ms\n",
            "video 1/1 (frame 121/121) /content/sample_data/video01_placasSolares.mp4: 384x640 1 Suja, 164.2ms\n",
            "Speed: 5.8ms preprocess, 174.3ms inference, 1.3ms postprocess per image at shape (1, 3, 384, 640)\n",
            "Results saved to \u001b[1mruns/detect/predict\u001b[0m\n"
          ]
        }
      ]
    },
    {
      "cell_type": "code",
      "source": [
        "model = YOLO(\"runs/detect/train2/weights/best.pt\")\n",
        "\n",
        "# Rodar a detecção no vídeo\n",
        "results = model.predict(source=\"/content/sample_data/video02_placas_fotovotaicas.mp4\", save=True, show=True)"
      ],
      "metadata": {
        "colab": {
          "base_uri": "https://localhost:8080/"
        },
        "id": "rhI1NQC5-wdJ",
        "outputId": "a6db16c8-dbd3-4f26-dffc-220993b1e188"
      },
      "execution_count": null,
      "outputs": [
        {
          "output_type": "stream",
          "name": "stdout",
          "text": [
            "WARNING ⚠️ Environment does not support cv2.imshow() or PIL Image.show()\n",
            "\n",
            "\n",
            "\n",
            "WARNING ⚠️ inference results will accumulate in RAM unless `stream=True` is passed, causing potential out-of-memory\n",
            "errors for large sources or long-running streams and videos. See https://docs.ultralytics.com/modes/predict/ for help.\n",
            "\n",
            "Example:\n",
            "    results = model(source=..., stream=True)  # generator of Results objects\n",
            "    for r in results:\n",
            "        boxes = r.boxes  # Boxes object for bbox outputs\n",
            "        masks = r.masks  # Masks object for segment masks outputs\n",
            "        probs = r.probs  # Class probabilities for classification outputs\n",
            "\n",
            "video 1/1 (frame 1/307) /content/sample_data/video02_placas_fotovotaicas.mp4: 384x640 15 Sujas, 156.9ms\n",
            "video 1/1 (frame 2/307) /content/sample_data/video02_placas_fotovotaicas.mp4: 384x640 15 Sujas, 154.6ms\n",
            "video 1/1 (frame 3/307) /content/sample_data/video02_placas_fotovotaicas.mp4: 384x640 15 Sujas, 162.0ms\n",
            "video 1/1 (frame 4/307) /content/sample_data/video02_placas_fotovotaicas.mp4: 384x640 15 Sujas, 143.9ms\n",
            "video 1/1 (frame 5/307) /content/sample_data/video02_placas_fotovotaicas.mp4: 384x640 15 Sujas, 148.2ms\n",
            "video 1/1 (frame 6/307) /content/sample_data/video02_placas_fotovotaicas.mp4: 384x640 15 Sujas, 147.9ms\n",
            "video 1/1 (frame 7/307) /content/sample_data/video02_placas_fotovotaicas.mp4: 384x640 15 Sujas, 148.7ms\n",
            "video 1/1 (frame 8/307) /content/sample_data/video02_placas_fotovotaicas.mp4: 384x640 14 Sujas, 147.9ms\n",
            "video 1/1 (frame 9/307) /content/sample_data/video02_placas_fotovotaicas.mp4: 384x640 14 Sujas, 162.8ms\n",
            "video 1/1 (frame 10/307) /content/sample_data/video02_placas_fotovotaicas.mp4: 384x640 14 Sujas, 221.2ms\n",
            "video 1/1 (frame 11/307) /content/sample_data/video02_placas_fotovotaicas.mp4: 384x640 14 Sujas, 225.7ms\n",
            "video 1/1 (frame 12/307) /content/sample_data/video02_placas_fotovotaicas.mp4: 384x640 14 Sujas, 224.3ms\n",
            "video 1/1 (frame 13/307) /content/sample_data/video02_placas_fotovotaicas.mp4: 384x640 14 Sujas, 236.7ms\n",
            "video 1/1 (frame 14/307) /content/sample_data/video02_placas_fotovotaicas.mp4: 384x640 14 Sujas, 226.5ms\n",
            "video 1/1 (frame 15/307) /content/sample_data/video02_placas_fotovotaicas.mp4: 384x640 14 Sujas, 225.3ms\n",
            "video 1/1 (frame 16/307) /content/sample_data/video02_placas_fotovotaicas.mp4: 384x640 14 Sujas, 238.2ms\n",
            "video 1/1 (frame 17/307) /content/sample_data/video02_placas_fotovotaicas.mp4: 384x640 15 Sujas, 260.7ms\n",
            "video 1/1 (frame 18/307) /content/sample_data/video02_placas_fotovotaicas.mp4: 384x640 16 Sujas, 228.0ms\n",
            "video 1/1 (frame 19/307) /content/sample_data/video02_placas_fotovotaicas.mp4: 384x640 15 Sujas, 235.2ms\n",
            "video 1/1 (frame 20/307) /content/sample_data/video02_placas_fotovotaicas.mp4: 384x640 14 Sujas, 236.1ms\n",
            "video 1/1 (frame 21/307) /content/sample_data/video02_placas_fotovotaicas.mp4: 384x640 15 Sujas, 234.1ms\n",
            "video 1/1 (frame 22/307) /content/sample_data/video02_placas_fotovotaicas.mp4: 384x640 11 Sujas, 236.0ms\n",
            "video 1/1 (frame 23/307) /content/sample_data/video02_placas_fotovotaicas.mp4: 384x640 11 Sujas, 232.0ms\n",
            "video 1/1 (frame 24/307) /content/sample_data/video02_placas_fotovotaicas.mp4: 384x640 10 Sujas, 229.2ms\n",
            "video 1/1 (frame 25/307) /content/sample_data/video02_placas_fotovotaicas.mp4: 384x640 10 Sujas, 236.3ms\n",
            "video 1/1 (frame 26/307) /content/sample_data/video02_placas_fotovotaicas.mp4: 384x640 9 Sujas, 165.5ms\n",
            "video 1/1 (frame 27/307) /content/sample_data/video02_placas_fotovotaicas.mp4: 384x640 9 Sujas, 141.1ms\n",
            "video 1/1 (frame 28/307) /content/sample_data/video02_placas_fotovotaicas.mp4: 384x640 9 Sujas, 146.2ms\n",
            "video 1/1 (frame 29/307) /content/sample_data/video02_placas_fotovotaicas.mp4: 384x640 9 Sujas, 161.7ms\n",
            "video 1/1 (frame 30/307) /content/sample_data/video02_placas_fotovotaicas.mp4: 384x640 11 Sujas, 142.7ms\n",
            "video 1/1 (frame 31/307) /content/sample_data/video02_placas_fotovotaicas.mp4: 384x640 8 Sujas, 154.5ms\n",
            "video 1/1 (frame 32/307) /content/sample_data/video02_placas_fotovotaicas.mp4: 384x640 8 Sujas, 147.8ms\n",
            "video 1/1 (frame 33/307) /content/sample_data/video02_placas_fotovotaicas.mp4: 384x640 10 Sujas, 145.9ms\n",
            "video 1/1 (frame 34/307) /content/sample_data/video02_placas_fotovotaicas.mp4: 384x640 6 Sujas, 157.1ms\n",
            "video 1/1 (frame 35/307) /content/sample_data/video02_placas_fotovotaicas.mp4: 384x640 8 Sujas, 143.8ms\n",
            "video 1/1 (frame 36/307) /content/sample_data/video02_placas_fotovotaicas.mp4: 384x640 6 Sujas, 143.4ms\n",
            "video 1/1 (frame 37/307) /content/sample_data/video02_placas_fotovotaicas.mp4: 384x640 6 Sujas, 159.0ms\n",
            "video 1/1 (frame 38/307) /content/sample_data/video02_placas_fotovotaicas.mp4: 384x640 6 Sujas, 147.2ms\n",
            "video 1/1 (frame 39/307) /content/sample_data/video02_placas_fotovotaicas.mp4: 384x640 6 Sujas, 145.9ms\n",
            "video 1/1 (frame 40/307) /content/sample_data/video02_placas_fotovotaicas.mp4: 384x640 6 Sujas, 149.6ms\n",
            "video 1/1 (frame 41/307) /content/sample_data/video02_placas_fotovotaicas.mp4: 384x640 6 Sujas, 151.9ms\n",
            "video 1/1 (frame 42/307) /content/sample_data/video02_placas_fotovotaicas.mp4: 384x640 7 Sujas, 147.7ms\n",
            "video 1/1 (frame 43/307) /content/sample_data/video02_placas_fotovotaicas.mp4: 384x640 6 Sujas, 163.1ms\n",
            "video 1/1 (frame 44/307) /content/sample_data/video02_placas_fotovotaicas.mp4: 384x640 5 Sujas, 150.5ms\n",
            "video 1/1 (frame 45/307) /content/sample_data/video02_placas_fotovotaicas.mp4: 384x640 6 Sujas, 154.7ms\n",
            "video 1/1 (frame 46/307) /content/sample_data/video02_placas_fotovotaicas.mp4: 384x640 7 Sujas, 156.3ms\n",
            "video 1/1 (frame 47/307) /content/sample_data/video02_placas_fotovotaicas.mp4: 384x640 6 Sujas, 145.1ms\n",
            "video 1/1 (frame 48/307) /content/sample_data/video02_placas_fotovotaicas.mp4: 384x640 8 Sujas, 150.3ms\n",
            "video 1/1 (frame 49/307) /content/sample_data/video02_placas_fotovotaicas.mp4: 384x640 7 Sujas, 164.7ms\n",
            "video 1/1 (frame 50/307) /content/sample_data/video02_placas_fotovotaicas.mp4: 384x640 9 Sujas, 151.3ms\n",
            "video 1/1 (frame 51/307) /content/sample_data/video02_placas_fotovotaicas.mp4: 384x640 8 Sujas, 146.1ms\n",
            "video 1/1 (frame 52/307) /content/sample_data/video02_placas_fotovotaicas.mp4: 384x640 8 Sujas, 148.0ms\n",
            "video 1/1 (frame 53/307) /content/sample_data/video02_placas_fotovotaicas.mp4: 384x640 8 Sujas, 144.9ms\n",
            "video 1/1 (frame 54/307) /content/sample_data/video02_placas_fotovotaicas.mp4: 384x640 4 Sujas, 140.1ms\n",
            "video 1/1 (frame 55/307) /content/sample_data/video02_placas_fotovotaicas.mp4: 384x640 4 Sujas, 161.7ms\n",
            "video 1/1 (frame 56/307) /content/sample_data/video02_placas_fotovotaicas.mp4: 384x640 5 Sujas, 145.5ms\n",
            "video 1/1 (frame 57/307) /content/sample_data/video02_placas_fotovotaicas.mp4: 384x640 5 Sujas, 150.0ms\n",
            "video 1/1 (frame 58/307) /content/sample_data/video02_placas_fotovotaicas.mp4: 384x640 4 Sujas, 150.9ms\n",
            "video 1/1 (frame 59/307) /content/sample_data/video02_placas_fotovotaicas.mp4: 384x640 4 Sujas, 149.8ms\n",
            "video 1/1 (frame 60/307) /content/sample_data/video02_placas_fotovotaicas.mp4: 384x640 4 Sujas, 156.0ms\n",
            "video 1/1 (frame 61/307) /content/sample_data/video02_placas_fotovotaicas.mp4: 384x640 5 Sujas, 162.0ms\n",
            "video 1/1 (frame 62/307) /content/sample_data/video02_placas_fotovotaicas.mp4: 384x640 7 Sujas, 148.2ms\n",
            "video 1/1 (frame 63/307) /content/sample_data/video02_placas_fotovotaicas.mp4: 384x640 6 Sujas, 155.4ms\n",
            "video 1/1 (frame 64/307) /content/sample_data/video02_placas_fotovotaicas.mp4: 384x640 5 Sujas, 150.8ms\n",
            "video 1/1 (frame 65/307) /content/sample_data/video02_placas_fotovotaicas.mp4: 384x640 5 Sujas, 155.1ms\n",
            "video 1/1 (frame 66/307) /content/sample_data/video02_placas_fotovotaicas.mp4: 384x640 7 Sujas, 148.1ms\n",
            "video 1/1 (frame 67/307) /content/sample_data/video02_placas_fotovotaicas.mp4: 384x640 6 Sujas, 160.2ms\n",
            "video 1/1 (frame 68/307) /content/sample_data/video02_placas_fotovotaicas.mp4: 384x640 8 Sujas, 154.0ms\n",
            "video 1/1 (frame 69/307) /content/sample_data/video02_placas_fotovotaicas.mp4: 384x640 6 Sujas, 161.0ms\n",
            "video 1/1 (frame 70/307) /content/sample_data/video02_placas_fotovotaicas.mp4: 384x640 8 Sujas, 149.4ms\n",
            "video 1/1 (frame 71/307) /content/sample_data/video02_placas_fotovotaicas.mp4: 384x640 7 Sujas, 155.7ms\n",
            "video 1/1 (frame 72/307) /content/sample_data/video02_placas_fotovotaicas.mp4: 384x640 7 Sujas, 169.2ms\n",
            "video 1/1 (frame 73/307) /content/sample_data/video02_placas_fotovotaicas.mp4: 384x640 7 Sujas, 162.9ms\n",
            "video 1/1 (frame 74/307) /content/sample_data/video02_placas_fotovotaicas.mp4: 384x640 6 Sujas, 164.0ms\n",
            "video 1/1 (frame 75/307) /content/sample_data/video02_placas_fotovotaicas.mp4: 384x640 7 Sujas, 155.2ms\n",
            "video 1/1 (frame 76/307) /content/sample_data/video02_placas_fotovotaicas.mp4: 384x640 9 Sujas, 147.6ms\n",
            "video 1/1 (frame 77/307) /content/sample_data/video02_placas_fotovotaicas.mp4: 384x640 8 Sujas, 150.3ms\n",
            "video 1/1 (frame 78/307) /content/sample_data/video02_placas_fotovotaicas.mp4: 384x640 5 Sujas, 163.9ms\n",
            "video 1/1 (frame 79/307) /content/sample_data/video02_placas_fotovotaicas.mp4: 384x640 5 Sujas, 149.1ms\n",
            "video 1/1 (frame 80/307) /content/sample_data/video02_placas_fotovotaicas.mp4: 384x640 4 Sujas, 151.7ms\n",
            "video 1/1 (frame 81/307) /content/sample_data/video02_placas_fotovotaicas.mp4: 384x640 4 Sujas, 148.6ms\n",
            "video 1/1 (frame 82/307) /content/sample_data/video02_placas_fotovotaicas.mp4: 384x640 3 Sujas, 151.7ms\n",
            "video 1/1 (frame 83/307) /content/sample_data/video02_placas_fotovotaicas.mp4: 384x640 2 Sujas, 227.7ms\n",
            "video 1/1 (frame 84/307) /content/sample_data/video02_placas_fotovotaicas.mp4: 384x640 3 Sujas, 249.6ms\n",
            "video 1/1 (frame 85/307) /content/sample_data/video02_placas_fotovotaicas.mp4: 384x640 3 Sujas, 221.8ms\n",
            "video 1/1 (frame 86/307) /content/sample_data/video02_placas_fotovotaicas.mp4: 384x640 5 Sujas, 227.9ms\n",
            "video 1/1 (frame 87/307) /content/sample_data/video02_placas_fotovotaicas.mp4: 384x640 4 Sujas, 230.6ms\n",
            "video 1/1 (frame 88/307) /content/sample_data/video02_placas_fotovotaicas.mp4: 384x640 2 Sujas, 264.1ms\n",
            "video 1/1 (frame 89/307) /content/sample_data/video02_placas_fotovotaicas.mp4: 384x640 4 Sujas, 232.7ms\n",
            "video 1/1 (frame 90/307) /content/sample_data/video02_placas_fotovotaicas.mp4: 384x640 5 Sujas, 226.0ms\n",
            "video 1/1 (frame 91/307) /content/sample_data/video02_placas_fotovotaicas.mp4: 384x640 5 Sujas, 225.8ms\n",
            "video 1/1 (frame 92/307) /content/sample_data/video02_placas_fotovotaicas.mp4: 384x640 7 Sujas, 227.8ms\n",
            "video 1/1 (frame 93/307) /content/sample_data/video02_placas_fotovotaicas.mp4: 384x640 7 Sujas, 225.7ms\n",
            "video 1/1 (frame 94/307) /content/sample_data/video02_placas_fotovotaicas.mp4: 384x640 4 Sujas, 224.5ms\n",
            "video 1/1 (frame 95/307) /content/sample_data/video02_placas_fotovotaicas.mp4: 384x640 6 Sujas, 232.8ms\n",
            "video 1/1 (frame 96/307) /content/sample_data/video02_placas_fotovotaicas.mp4: 384x640 5 Sujas, 236.1ms\n",
            "video 1/1 (frame 97/307) /content/sample_data/video02_placas_fotovotaicas.mp4: 384x640 6 Sujas, 224.2ms\n",
            "video 1/1 (frame 98/307) /content/sample_data/video02_placas_fotovotaicas.mp4: 384x640 5 Sujas, 232.3ms\n",
            "video 1/1 (frame 99/307) /content/sample_data/video02_placas_fotovotaicas.mp4: 384x640 4 Sujas, 193.1ms\n",
            "video 1/1 (frame 100/307) /content/sample_data/video02_placas_fotovotaicas.mp4: 384x640 3 Sujas, 179.3ms\n",
            "video 1/1 (frame 101/307) /content/sample_data/video02_placas_fotovotaicas.mp4: 384x640 6 Sujas, 145.3ms\n",
            "video 1/1 (frame 102/307) /content/sample_data/video02_placas_fotovotaicas.mp4: 384x640 4 Sujas, 144.5ms\n",
            "video 1/1 (frame 103/307) /content/sample_data/video02_placas_fotovotaicas.mp4: 384x640 6 Sujas, 147.0ms\n",
            "video 1/1 (frame 104/307) /content/sample_data/video02_placas_fotovotaicas.mp4: 384x640 4 Sujas, 150.7ms\n",
            "video 1/1 (frame 105/307) /content/sample_data/video02_placas_fotovotaicas.mp4: 384x640 5 Sujas, 148.8ms\n",
            "video 1/1 (frame 106/307) /content/sample_data/video02_placas_fotovotaicas.mp4: 384x640 6 Sujas, 157.8ms\n",
            "video 1/1 (frame 107/307) /content/sample_data/video02_placas_fotovotaicas.mp4: 384x640 5 Sujas, 144.3ms\n",
            "video 1/1 (frame 108/307) /content/sample_data/video02_placas_fotovotaicas.mp4: 384x640 6 Sujas, 145.5ms\n",
            "video 1/1 (frame 109/307) /content/sample_data/video02_placas_fotovotaicas.mp4: 384x640 5 Sujas, 143.2ms\n",
            "video 1/1 (frame 110/307) /content/sample_data/video02_placas_fotovotaicas.mp4: 384x640 4 Sujas, 138.6ms\n",
            "video 1/1 (frame 111/307) /content/sample_data/video02_placas_fotovotaicas.mp4: 384x640 6 Sujas, 144.1ms\n",
            "video 1/1 (frame 112/307) /content/sample_data/video02_placas_fotovotaicas.mp4: 384x640 4 Sujas, 152.0ms\n",
            "video 1/1 (frame 113/307) /content/sample_data/video02_placas_fotovotaicas.mp4: 384x640 6 Sujas, 137.8ms\n",
            "video 1/1 (frame 114/307) /content/sample_data/video02_placas_fotovotaicas.mp4: 384x640 8 Sujas, 145.4ms\n",
            "video 1/1 (frame 115/307) /content/sample_data/video02_placas_fotovotaicas.mp4: 384x640 10 Sujas, 157.6ms\n",
            "video 1/1 (frame 116/307) /content/sample_data/video02_placas_fotovotaicas.mp4: 384x640 4 Sujas, 138.0ms\n",
            "video 1/1 (frame 117/307) /content/sample_data/video02_placas_fotovotaicas.mp4: 384x640 3 Sujas, 140.4ms\n",
            "video 1/1 (frame 118/307) /content/sample_data/video02_placas_fotovotaicas.mp4: 384x640 4 Sujas, 142.3ms\n",
            "video 1/1 (frame 119/307) /content/sample_data/video02_placas_fotovotaicas.mp4: 384x640 6 Sujas, 141.4ms\n",
            "video 1/1 (frame 120/307) /content/sample_data/video02_placas_fotovotaicas.mp4: 384x640 9 Sujas, 158.0ms\n",
            "video 1/1 (frame 121/307) /content/sample_data/video02_placas_fotovotaicas.mp4: 384x640 11 Sujas, 145.5ms\n",
            "video 1/1 (frame 122/307) /content/sample_data/video02_placas_fotovotaicas.mp4: 384x640 5 Sujas, 149.9ms\n",
            "video 1/1 (frame 123/307) /content/sample_data/video02_placas_fotovotaicas.mp4: 384x640 6 Sujas, 1 Limpa, 144.2ms\n",
            "video 1/1 (frame 124/307) /content/sample_data/video02_placas_fotovotaicas.mp4: 384x640 7 Sujas, 148.5ms\n",
            "video 1/1 (frame 125/307) /content/sample_data/video02_placas_fotovotaicas.mp4: 384x640 5 Sujas, 140.3ms\n",
            "video 1/1 (frame 126/307) /content/sample_data/video02_placas_fotovotaicas.mp4: 384x640 5 Sujas, 149.3ms\n",
            "video 1/1 (frame 127/307) /content/sample_data/video02_placas_fotovotaicas.mp4: 384x640 6 Sujas, 1 Limpa, 145.6ms\n",
            "video 1/1 (frame 128/307) /content/sample_data/video02_placas_fotovotaicas.mp4: 384x640 9 Sujas, 1 Limpa, 144.0ms\n",
            "video 1/1 (frame 129/307) /content/sample_data/video02_placas_fotovotaicas.mp4: 384x640 6 Sujas, 1 Limpa, 148.6ms\n",
            "video 1/1 (frame 130/307) /content/sample_data/video02_placas_fotovotaicas.mp4: 384x640 8 Sujas, 1 Limpa, 143.6ms\n",
            "video 1/1 (frame 131/307) /content/sample_data/video02_placas_fotovotaicas.mp4: 384x640 8 Sujas, 1 Limpa, 159.5ms\n",
            "video 1/1 (frame 132/307) /content/sample_data/video02_placas_fotovotaicas.mp4: 384x640 5 Sujas, 2 Limpas, 143.6ms\n",
            "video 1/1 (frame 133/307) /content/sample_data/video02_placas_fotovotaicas.mp4: 384x640 6 Sujas, 1 Limpa, 146.6ms\n",
            "video 1/1 (frame 134/307) /content/sample_data/video02_placas_fotovotaicas.mp4: 384x640 6 Sujas, 1 Limpa, 143.7ms\n",
            "video 1/1 (frame 135/307) /content/sample_data/video02_placas_fotovotaicas.mp4: 384x640 4 Sujas, 1 Limpa, 152.8ms\n",
            "video 1/1 (frame 136/307) /content/sample_data/video02_placas_fotovotaicas.mp4: 384x640 5 Sujas, 1 Limpa, 143.5ms\n",
            "video 1/1 (frame 137/307) /content/sample_data/video02_placas_fotovotaicas.mp4: 384x640 5 Sujas, 2 Limpas, 164.3ms\n",
            "video 1/1 (frame 138/307) /content/sample_data/video02_placas_fotovotaicas.mp4: 384x640 7 Sujas, 1 Limpa, 146.7ms\n",
            "video 1/1 (frame 139/307) /content/sample_data/video02_placas_fotovotaicas.mp4: 384x640 6 Sujas, 2 Limpas, 140.7ms\n",
            "video 1/1 (frame 140/307) /content/sample_data/video02_placas_fotovotaicas.mp4: 384x640 9 Sujas, 2 Limpas, 145.1ms\n",
            "video 1/1 (frame 141/307) /content/sample_data/video02_placas_fotovotaicas.mp4: 384x640 9 Sujas, 1 Limpa, 152.4ms\n",
            "video 1/1 (frame 142/307) /content/sample_data/video02_placas_fotovotaicas.mp4: 384x640 9 Sujas, 1 Limpa, 141.8ms\n",
            "video 1/1 (frame 143/307) /content/sample_data/video02_placas_fotovotaicas.mp4: 384x640 8 Sujas, 1 Limpa, 165.7ms\n",
            "video 1/1 (frame 144/307) /content/sample_data/video02_placas_fotovotaicas.mp4: 384x640 5 Sujas, 1 Limpa, 141.8ms\n",
            "video 1/1 (frame 145/307) /content/sample_data/video02_placas_fotovotaicas.mp4: 384x640 8 Sujas, 142.6ms\n",
            "video 1/1 (frame 146/307) /content/sample_data/video02_placas_fotovotaicas.mp4: 384x640 7 Sujas, 1 Limpa, 147.4ms\n",
            "video 1/1 (frame 147/307) /content/sample_data/video02_placas_fotovotaicas.mp4: 384x640 6 Sujas, 1 Limpa, 145.4ms\n",
            "video 1/1 (frame 148/307) /content/sample_data/video02_placas_fotovotaicas.mp4: 384x640 7 Sujas, 1 Limpa, 143.7ms\n",
            "video 1/1 (frame 149/307) /content/sample_data/video02_placas_fotovotaicas.mp4: 384x640 6 Sujas, 1 Limpa, 156.9ms\n",
            "video 1/1 (frame 150/307) /content/sample_data/video02_placas_fotovotaicas.mp4: 384x640 8 Sujas, 1 Limpa, 146.1ms\n",
            "video 1/1 (frame 151/307) /content/sample_data/video02_placas_fotovotaicas.mp4: 384x640 7 Sujas, 1 Limpa, 147.1ms\n",
            "video 1/1 (frame 152/307) /content/sample_data/video02_placas_fotovotaicas.mp4: 384x640 7 Sujas, 1 Limpa, 147.7ms\n",
            "video 1/1 (frame 153/307) /content/sample_data/video02_placas_fotovotaicas.mp4: 384x640 6 Sujas, 1 Limpa, 143.6ms\n",
            "video 1/1 (frame 154/307) /content/sample_data/video02_placas_fotovotaicas.mp4: 384x640 6 Sujas, 2 Limpas, 141.8ms\n",
            "video 1/1 (frame 155/307) /content/sample_data/video02_placas_fotovotaicas.mp4: 384x640 9 Sujas, 1 Limpa, 155.7ms\n",
            "video 1/1 (frame 156/307) /content/sample_data/video02_placas_fotovotaicas.mp4: 384x640 8 Sujas, 1 Limpa, 138.4ms\n",
            "video 1/1 (frame 157/307) /content/sample_data/video02_placas_fotovotaicas.mp4: 384x640 8 Sujas, 2 Limpas, 143.2ms\n",
            "video 1/1 (frame 158/307) /content/sample_data/video02_placas_fotovotaicas.mp4: 384x640 6 Sujas, 2 Limpas, 234.4ms\n",
            "video 1/1 (frame 159/307) /content/sample_data/video02_placas_fotovotaicas.mp4: 384x640 9 Sujas, 1 Limpa, 225.1ms\n",
            "video 1/1 (frame 160/307) /content/sample_data/video02_placas_fotovotaicas.mp4: 384x640 9 Sujas, 1 Limpa, 232.4ms\n",
            "video 1/1 (frame 161/307) /content/sample_data/video02_placas_fotovotaicas.mp4: 384x640 8 Sujas, 1 Limpa, 213.7ms\n",
            "video 1/1 (frame 162/307) /content/sample_data/video02_placas_fotovotaicas.mp4: 384x640 6 Sujas, 2 Limpas, 215.5ms\n",
            "video 1/1 (frame 163/307) /content/sample_data/video02_placas_fotovotaicas.mp4: 384x640 9 Sujas, 1 Limpa, 224.5ms\n",
            "video 1/1 (frame 164/307) /content/sample_data/video02_placas_fotovotaicas.mp4: 384x640 10 Sujas, 2 Limpas, 236.2ms\n",
            "video 1/1 (frame 165/307) /content/sample_data/video02_placas_fotovotaicas.mp4: 384x640 9 Sujas, 2 Limpas, 221.9ms\n",
            "video 1/1 (frame 166/307) /content/sample_data/video02_placas_fotovotaicas.mp4: 384x640 5 Sujas, 2 Limpas, 215.6ms\n",
            "video 1/1 (frame 167/307) /content/sample_data/video02_placas_fotovotaicas.mp4: 384x640 6 Sujas, 2 Limpas, 220.0ms\n",
            "video 1/1 (frame 168/307) /content/sample_data/video02_placas_fotovotaicas.mp4: 384x640 6 Sujas, 1 Limpa, 240.7ms\n",
            "video 1/1 (frame 169/307) /content/sample_data/video02_placas_fotovotaicas.mp4: 384x640 9 Sujas, 2 Limpas, 216.6ms\n",
            "video 1/1 (frame 170/307) /content/sample_data/video02_placas_fotovotaicas.mp4: 384x640 9 Sujas, 2 Limpas, 230.4ms\n",
            "video 1/1 (frame 171/307) /content/sample_data/video02_placas_fotovotaicas.mp4: 384x640 6 Sujas, 2 Limpas, 229.3ms\n",
            "video 1/1 (frame 172/307) /content/sample_data/video02_placas_fotovotaicas.mp4: 384x640 9 Sujas, 2 Limpas, 228.7ms\n",
            "video 1/1 (frame 173/307) /content/sample_data/video02_placas_fotovotaicas.mp4: 384x640 11 Sujas, 2 Limpas, 254.7ms\n",
            "video 1/1 (frame 174/307) /content/sample_data/video02_placas_fotovotaicas.mp4: 384x640 10 Sujas, 2 Limpas, 181.0ms\n",
            "video 1/1 (frame 175/307) /content/sample_data/video02_placas_fotovotaicas.mp4: 384x640 11 Sujas, 2 Limpas, 145.8ms\n",
            "video 1/1 (frame 176/307) /content/sample_data/video02_placas_fotovotaicas.mp4: 384x640 13 Sujas, 2 Limpas, 151.5ms\n",
            "video 1/1 (frame 177/307) /content/sample_data/video02_placas_fotovotaicas.mp4: 384x640 9 Sujas, 1 Limpa, 161.3ms\n",
            "video 1/1 (frame 178/307) /content/sample_data/video02_placas_fotovotaicas.mp4: 384x640 12 Sujas, 1 Limpa, 150.5ms\n",
            "video 1/1 (frame 179/307) /content/sample_data/video02_placas_fotovotaicas.mp4: 384x640 9 Sujas, 1 Limpa, 164.1ms\n",
            "video 1/1 (frame 180/307) /content/sample_data/video02_placas_fotovotaicas.mp4: 384x640 7 Sujas, 1 Limpa, 147.0ms\n",
            "video 1/1 (frame 181/307) /content/sample_data/video02_placas_fotovotaicas.mp4: 384x640 17 Sujas, 1 Limpa, 145.7ms\n",
            "video 1/1 (frame 182/307) /content/sample_data/video02_placas_fotovotaicas.mp4: 384x640 14 Sujas, 1 Limpa, 142.7ms\n",
            "video 1/1 (frame 183/307) /content/sample_data/video02_placas_fotovotaicas.mp4: 384x640 12 Sujas, 1 Limpa, 150.5ms\n",
            "video 1/1 (frame 184/307) /content/sample_data/video02_placas_fotovotaicas.mp4: 384x640 11 Sujas, 143.9ms\n",
            "video 1/1 (frame 185/307) /content/sample_data/video02_placas_fotovotaicas.mp4: 384x640 11 Sujas, 138.6ms\n",
            "video 1/1 (frame 186/307) /content/sample_data/video02_placas_fotovotaicas.mp4: 384x640 13 Sujas, 141.3ms\n",
            "video 1/1 (frame 187/307) /content/sample_data/video02_placas_fotovotaicas.mp4: 384x640 13 Sujas, 143.0ms\n",
            "video 1/1 (frame 188/307) /content/sample_data/video02_placas_fotovotaicas.mp4: 384x640 8 Sujas, 139.6ms\n",
            "video 1/1 (frame 189/307) /content/sample_data/video02_placas_fotovotaicas.mp4: 384x640 11 Sujas, 1 Limpa, 156.3ms\n",
            "video 1/1 (frame 190/307) /content/sample_data/video02_placas_fotovotaicas.mp4: 384x640 10 Sujas, 148.7ms\n",
            "video 1/1 (frame 191/307) /content/sample_data/video02_placas_fotovotaicas.mp4: 384x640 13 Sujas, 147.5ms\n",
            "video 1/1 (frame 192/307) /content/sample_data/video02_placas_fotovotaicas.mp4: 384x640 15 Sujas, 154.6ms\n",
            "video 1/1 (frame 193/307) /content/sample_data/video02_placas_fotovotaicas.mp4: 384x640 11 Sujas, 149.2ms\n",
            "video 1/1 (frame 194/307) /content/sample_data/video02_placas_fotovotaicas.mp4: 384x640 13 Sujas, 147.4ms\n",
            "video 1/1 (frame 195/307) /content/sample_data/video02_placas_fotovotaicas.mp4: 384x640 15 Sujas, 147.0ms\n",
            "video 1/1 (frame 196/307) /content/sample_data/video02_placas_fotovotaicas.mp4: 384x640 15 Sujas, 143.1ms\n",
            "video 1/1 (frame 197/307) /content/sample_data/video02_placas_fotovotaicas.mp4: 384x640 11 Sujas, 142.0ms\n",
            "video 1/1 (frame 198/307) /content/sample_data/video02_placas_fotovotaicas.mp4: 384x640 13 Sujas, 143.6ms\n",
            "video 1/1 (frame 199/307) /content/sample_data/video02_placas_fotovotaicas.mp4: 384x640 14 Sujas, 146.6ms\n",
            "video 1/1 (frame 200/307) /content/sample_data/video02_placas_fotovotaicas.mp4: 384x640 14 Sujas, 140.2ms\n",
            "video 1/1 (frame 201/307) /content/sample_data/video02_placas_fotovotaicas.mp4: 384x640 13 Sujas, 159.0ms\n",
            "video 1/1 (frame 202/307) /content/sample_data/video02_placas_fotovotaicas.mp4: 384x640 10 Sujas, 147.6ms\n",
            "video 1/1 (frame 203/307) /content/sample_data/video02_placas_fotovotaicas.mp4: 384x640 14 Sujas, 147.2ms\n",
            "video 1/1 (frame 204/307) /content/sample_data/video02_placas_fotovotaicas.mp4: 384x640 15 Sujas, 147.3ms\n",
            "video 1/1 (frame 205/307) /content/sample_data/video02_placas_fotovotaicas.mp4: 384x640 13 Sujas, 147.9ms\n",
            "video 1/1 (frame 206/307) /content/sample_data/video02_placas_fotovotaicas.mp4: 384x640 14 Sujas, 151.2ms\n",
            "video 1/1 (frame 207/307) /content/sample_data/video02_placas_fotovotaicas.mp4: 384x640 14 Sujas, 171.0ms\n",
            "video 1/1 (frame 208/307) /content/sample_data/video02_placas_fotovotaicas.mp4: 384x640 17 Sujas, 142.8ms\n",
            "video 1/1 (frame 209/307) /content/sample_data/video02_placas_fotovotaicas.mp4: 384x640 13 Sujas, 148.0ms\n",
            "video 1/1 (frame 210/307) /content/sample_data/video02_placas_fotovotaicas.mp4: 384x640 13 Sujas, 145.1ms\n",
            "video 1/1 (frame 211/307) /content/sample_data/video02_placas_fotovotaicas.mp4: 384x640 14 Sujas, 141.6ms\n",
            "video 1/1 (frame 212/307) /content/sample_data/video02_placas_fotovotaicas.mp4: 384x640 15 Sujas, 144.5ms\n",
            "video 1/1 (frame 213/307) /content/sample_data/video02_placas_fotovotaicas.mp4: 384x640 18 Sujas, 152.8ms\n",
            "video 1/1 (frame 214/307) /content/sample_data/video02_placas_fotovotaicas.mp4: 384x640 14 Sujas, 144.0ms\n",
            "video 1/1 (frame 215/307) /content/sample_data/video02_placas_fotovotaicas.mp4: 384x640 14 Sujas, 150.9ms\n",
            "video 1/1 (frame 216/307) /content/sample_data/video02_placas_fotovotaicas.mp4: 384x640 14 Sujas, 155.4ms\n",
            "video 1/1 (frame 217/307) /content/sample_data/video02_placas_fotovotaicas.mp4: 384x640 14 Sujas, 140.0ms\n",
            "video 1/1 (frame 218/307) /content/sample_data/video02_placas_fotovotaicas.mp4: 384x640 13 Sujas, 154.6ms\n",
            "video 1/1 (frame 219/307) /content/sample_data/video02_placas_fotovotaicas.mp4: 384x640 13 Sujas, 144.7ms\n",
            "video 1/1 (frame 220/307) /content/sample_data/video02_placas_fotovotaicas.mp4: 384x640 15 Sujas, 138.2ms\n",
            "video 1/1 (frame 221/307) /content/sample_data/video02_placas_fotovotaicas.mp4: 384x640 14 Sujas, 147.1ms\n",
            "video 1/1 (frame 222/307) /content/sample_data/video02_placas_fotovotaicas.mp4: 384x640 14 Sujas, 144.9ms\n",
            "video 1/1 (frame 223/307) /content/sample_data/video02_placas_fotovotaicas.mp4: 384x640 16 Sujas, 146.7ms\n",
            "video 1/1 (frame 224/307) /content/sample_data/video02_placas_fotovotaicas.mp4: 384x640 13 Sujas, 161.1ms\n",
            "video 1/1 (frame 225/307) /content/sample_data/video02_placas_fotovotaicas.mp4: 384x640 15 Sujas, 146.5ms\n",
            "video 1/1 (frame 226/307) /content/sample_data/video02_placas_fotovotaicas.mp4: 384x640 15 Sujas, 143.9ms\n",
            "video 1/1 (frame 227/307) /content/sample_data/video02_placas_fotovotaicas.mp4: 384x640 16 Sujas, 150.6ms\n",
            "video 1/1 (frame 228/307) /content/sample_data/video02_placas_fotovotaicas.mp4: 384x640 17 Sujas, 150.7ms\n",
            "video 1/1 (frame 229/307) /content/sample_data/video02_placas_fotovotaicas.mp4: 384x640 15 Sujas, 149.7ms\n",
            "video 1/1 (frame 230/307) /content/sample_data/video02_placas_fotovotaicas.mp4: 384x640 13 Sujas, 165.0ms\n",
            "video 1/1 (frame 231/307) /content/sample_data/video02_placas_fotovotaicas.mp4: 384x640 15 Sujas, 179.8ms\n",
            "video 1/1 (frame 232/307) /content/sample_data/video02_placas_fotovotaicas.mp4: 384x640 13 Sujas, 240.4ms\n",
            "video 1/1 (frame 233/307) /content/sample_data/video02_placas_fotovotaicas.mp4: 384x640 14 Sujas, 228.7ms\n",
            "video 1/1 (frame 234/307) /content/sample_data/video02_placas_fotovotaicas.mp4: 384x640 13 Sujas, 271.0ms\n",
            "video 1/1 (frame 235/307) /content/sample_data/video02_placas_fotovotaicas.mp4: 384x640 13 Sujas, 237.4ms\n",
            "video 1/1 (frame 236/307) /content/sample_data/video02_placas_fotovotaicas.mp4: 384x640 15 Sujas, 234.1ms\n",
            "video 1/1 (frame 237/307) /content/sample_data/video02_placas_fotovotaicas.mp4: 384x640 18 Sujas, 249.2ms\n",
            "video 1/1 (frame 238/307) /content/sample_data/video02_placas_fotovotaicas.mp4: 384x640 14 Sujas, 234.2ms\n",
            "video 1/1 (frame 239/307) /content/sample_data/video02_placas_fotovotaicas.mp4: 384x640 12 Sujas, 231.8ms\n",
            "video 1/1 (frame 240/307) /content/sample_data/video02_placas_fotovotaicas.mp4: 384x640 14 Sujas, 226.8ms\n",
            "video 1/1 (frame 241/307) /content/sample_data/video02_placas_fotovotaicas.mp4: 384x640 14 Sujas, 235.6ms\n",
            "video 1/1 (frame 242/307) /content/sample_data/video02_placas_fotovotaicas.mp4: 384x640 14 Sujas, 257.6ms\n",
            "video 1/1 (frame 243/307) /content/sample_data/video02_placas_fotovotaicas.mp4: 384x640 15 Sujas, 228.1ms\n",
            "video 1/1 (frame 244/307) /content/sample_data/video02_placas_fotovotaicas.mp4: 384x640 19 Sujas, 244.2ms\n",
            "video 1/1 (frame 245/307) /content/sample_data/video02_placas_fotovotaicas.mp4: 384x640 18 Sujas, 360.5ms\n",
            "video 1/1 (frame 246/307) /content/sample_data/video02_placas_fotovotaicas.mp4: 384x640 18 Sujas, 490.1ms\n",
            "video 1/1 (frame 247/307) /content/sample_data/video02_placas_fotovotaicas.mp4: 384x640 16 Sujas, 165.8ms\n",
            "video 1/1 (frame 248/307) /content/sample_data/video02_placas_fotovotaicas.mp4: 384x640 14 Sujas, 376.0ms\n",
            "video 1/1 (frame 249/307) /content/sample_data/video02_placas_fotovotaicas.mp4: 384x640 19 Sujas, 196.9ms\n",
            "video 1/1 (frame 250/307) /content/sample_data/video02_placas_fotovotaicas.mp4: 384x640 16 Sujas, 149.5ms\n",
            "video 1/1 (frame 251/307) /content/sample_data/video02_placas_fotovotaicas.mp4: 384x640 19 Sujas, 153.8ms\n",
            "video 1/1 (frame 252/307) /content/sample_data/video02_placas_fotovotaicas.mp4: 384x640 15 Sujas, 149.0ms\n",
            "video 1/1 (frame 253/307) /content/sample_data/video02_placas_fotovotaicas.mp4: 384x640 16 Sujas, 157.6ms\n",
            "video 1/1 (frame 254/307) /content/sample_data/video02_placas_fotovotaicas.mp4: 384x640 16 Sujas, 145.6ms\n",
            "video 1/1 (frame 255/307) /content/sample_data/video02_placas_fotovotaicas.mp4: 384x640 14 Sujas, 147.5ms\n",
            "video 1/1 (frame 256/307) /content/sample_data/video02_placas_fotovotaicas.mp4: 384x640 14 Sujas, 151.0ms\n",
            "video 1/1 (frame 257/307) /content/sample_data/video02_placas_fotovotaicas.mp4: 384x640 12 Sujas, 151.1ms\n",
            "video 1/1 (frame 258/307) /content/sample_data/video02_placas_fotovotaicas.mp4: 384x640 11 Sujas, 148.1ms\n",
            "video 1/1 (frame 259/307) /content/sample_data/video02_placas_fotovotaicas.mp4: 384x640 10 Sujas, 167.2ms\n",
            "video 1/1 (frame 260/307) /content/sample_data/video02_placas_fotovotaicas.mp4: 384x640 11 Sujas, 144.6ms\n",
            "video 1/1 (frame 261/307) /content/sample_data/video02_placas_fotovotaicas.mp4: 384x640 12 Sujas, 153.9ms\n",
            "video 1/1 (frame 262/307) /content/sample_data/video02_placas_fotovotaicas.mp4: 384x640 15 Sujas, 157.9ms\n",
            "video 1/1 (frame 263/307) /content/sample_data/video02_placas_fotovotaicas.mp4: 384x640 15 Sujas, 152.1ms\n",
            "video 1/1 (frame 264/307) /content/sample_data/video02_placas_fotovotaicas.mp4: 384x640 14 Sujas, 152.2ms\n",
            "video 1/1 (frame 265/307) /content/sample_data/video02_placas_fotovotaicas.mp4: 384x640 14 Sujas, 159.9ms\n",
            "video 1/1 (frame 266/307) /content/sample_data/video02_placas_fotovotaicas.mp4: 384x640 17 Sujas, 153.5ms\n",
            "video 1/1 (frame 267/307) /content/sample_data/video02_placas_fotovotaicas.mp4: 384x640 18 Sujas, 148.7ms\n",
            "video 1/1 (frame 268/307) /content/sample_data/video02_placas_fotovotaicas.mp4: 384x640 18 Sujas, 157.2ms\n",
            "video 1/1 (frame 269/307) /content/sample_data/video02_placas_fotovotaicas.mp4: 384x640 14 Sujas, 150.9ms\n",
            "video 1/1 (frame 270/307) /content/sample_data/video02_placas_fotovotaicas.mp4: 384x640 14 Sujas, 159.3ms\n",
            "video 1/1 (frame 271/307) /content/sample_data/video02_placas_fotovotaicas.mp4: 384x640 17 Sujas, 155.3ms\n",
            "video 1/1 (frame 272/307) /content/sample_data/video02_placas_fotovotaicas.mp4: 384x640 21 Sujas, 155.5ms\n",
            "video 1/1 (frame 273/307) /content/sample_data/video02_placas_fotovotaicas.mp4: 384x640 21 Sujas, 151.8ms\n",
            "video 1/1 (frame 274/307) /content/sample_data/video02_placas_fotovotaicas.mp4: 384x640 16 Sujas, 149.5ms\n",
            "video 1/1 (frame 275/307) /content/sample_data/video02_placas_fotovotaicas.mp4: 384x640 18 Sujas, 144.2ms\n",
            "video 1/1 (frame 276/307) /content/sample_data/video02_placas_fotovotaicas.mp4: 384x640 22 Sujas, 172.2ms\n",
            "video 1/1 (frame 277/307) /content/sample_data/video02_placas_fotovotaicas.mp4: 384x640 17 Sujas, 146.1ms\n",
            "video 1/1 (frame 278/307) /content/sample_data/video02_placas_fotovotaicas.mp4: 384x640 14 Sujas, 155.5ms\n",
            "video 1/1 (frame 279/307) /content/sample_data/video02_placas_fotovotaicas.mp4: 384x640 14 Sujas, 160.1ms\n",
            "video 1/1 (frame 280/307) /content/sample_data/video02_placas_fotovotaicas.mp4: 384x640 16 Sujas, 151.0ms\n",
            "video 1/1 (frame 281/307) /content/sample_data/video02_placas_fotovotaicas.mp4: 384x640 18 Sujas, 155.6ms\n",
            "video 1/1 (frame 282/307) /content/sample_data/video02_placas_fotovotaicas.mp4: 384x640 18 Sujas, 163.5ms\n",
            "video 1/1 (frame 283/307) /content/sample_data/video02_placas_fotovotaicas.mp4: 384x640 17 Sujas, 153.0ms\n",
            "video 1/1 (frame 284/307) /content/sample_data/video02_placas_fotovotaicas.mp4: 384x640 14 Sujas, 160.0ms\n",
            "video 1/1 (frame 285/307) /content/sample_data/video02_placas_fotovotaicas.mp4: 384x640 13 Sujas, 148.1ms\n",
            "video 1/1 (frame 286/307) /content/sample_data/video02_placas_fotovotaicas.mp4: 384x640 13 Sujas, 147.5ms\n",
            "video 1/1 (frame 287/307) /content/sample_data/video02_placas_fotovotaicas.mp4: 384x640 11 Sujas, 146.9ms\n",
            "video 1/1 (frame 288/307) /content/sample_data/video02_placas_fotovotaicas.mp4: 384x640 16 Sujas, 155.6ms\n",
            "video 1/1 (frame 289/307) /content/sample_data/video02_placas_fotovotaicas.mp4: 384x640 14 Sujas, 153.9ms\n",
            "video 1/1 (frame 290/307) /content/sample_data/video02_placas_fotovotaicas.mp4: 384x640 14 Sujas, 154.9ms\n",
            "video 1/1 (frame 291/307) /content/sample_data/video02_placas_fotovotaicas.mp4: 384x640 13 Sujas, 146.6ms\n",
            "video 1/1 (frame 292/307) /content/sample_data/video02_placas_fotovotaicas.mp4: 384x640 14 Sujas, 150.6ms\n",
            "video 1/1 (frame 293/307) /content/sample_data/video02_placas_fotovotaicas.mp4: 384x640 10 Sujas, 151.7ms\n",
            "video 1/1 (frame 294/307) /content/sample_data/video02_placas_fotovotaicas.mp4: 384x640 11 Sujas, 159.3ms\n",
            "video 1/1 (frame 295/307) /content/sample_data/video02_placas_fotovotaicas.mp4: 384x640 16 Sujas, 146.9ms\n",
            "video 1/1 (frame 296/307) /content/sample_data/video02_placas_fotovotaicas.mp4: 384x640 15 Sujas, 147.5ms\n",
            "video 1/1 (frame 297/307) /content/sample_data/video02_placas_fotovotaicas.mp4: 384x640 11 Sujas, 144.7ms\n",
            "video 1/1 (frame 298/307) /content/sample_data/video02_placas_fotovotaicas.mp4: 384x640 13 Sujas, 151.9ms\n",
            "video 1/1 (frame 299/307) /content/sample_data/video02_placas_fotovotaicas.mp4: 384x640 11 Sujas, 155.3ms\n",
            "video 1/1 (frame 300/307) /content/sample_data/video02_placas_fotovotaicas.mp4: 384x640 19 Sujas, 159.2ms\n",
            "video 1/1 (frame 301/307) /content/sample_data/video02_placas_fotovotaicas.mp4: 384x640 14 Sujas, 230.9ms\n",
            "video 1/1 (frame 302/307) /content/sample_data/video02_placas_fotovotaicas.mp4: 384x640 13 Sujas, 265.3ms\n",
            "video 1/1 (frame 303/307) /content/sample_data/video02_placas_fotovotaicas.mp4: 384x640 19 Sujas, 225.8ms\n",
            "video 1/1 (frame 304/307) /content/sample_data/video02_placas_fotovotaicas.mp4: 384x640 16 Sujas, 249.3ms\n",
            "video 1/1 (frame 305/307) /content/sample_data/video02_placas_fotovotaicas.mp4: 384x640 19 Sujas, 227.0ms\n",
            "video 1/1 (frame 306/307) /content/sample_data/video02_placas_fotovotaicas.mp4: 384x640 13 Sujas, 234.3ms\n",
            "video 1/1 (frame 307/307) /content/sample_data/video02_placas_fotovotaicas.mp4: 384x640 12 Sujas, 230.2ms\n",
            "Speed: 4.6ms preprocess, 171.8ms inference, 1.3ms postprocess per image at shape (1, 3, 384, 640)\n",
            "Results saved to \u001b[1mruns/detect/predict2\u001b[0m\n"
          ]
        }
      ]
    },
    {
      "cell_type": "code",
      "source": [
        "model = YOLO(\"runs/detect/train2/weights/best.pt\")\n",
        "\n",
        "# Rodar a detecção no vídeo\n",
        "results = model.predict(source=\"/content/sample_data/Imgclean_1043_0.jpg\", save=True, show=True)"
      ],
      "metadata": {
        "colab": {
          "base_uri": "https://localhost:8080/"
        },
        "id": "-xmSXU7k_qgY",
        "outputId": "ffe21574-0ee8-4862-f65b-b32acc84ecea"
      },
      "execution_count": null,
      "outputs": [
        {
          "output_type": "stream",
          "name": "stdout",
          "text": [
            "WARNING ⚠️ Environment does not support cv2.imshow() or PIL Image.show()\n",
            "\n",
            "\n",
            "image 1/1 /content/sample_data/Imgclean_1043_0.jpg: 480x640 17 Sujas, 312.0ms\n",
            "Speed: 9.1ms preprocess, 312.0ms inference, 1.6ms postprocess per image at shape (1, 3, 480, 640)\n",
            "Results saved to \u001b[1mruns/detect/predict4\u001b[0m\n"
          ]
        }
      ]
    },
    {
      "cell_type": "code",
      "source": [
        "model = YOLO(\"runs/detect/train2/weights/best.pt\")\n",
        "\n",
        "# Rodar a detecção no vídeo\n",
        "results = model.predict(source=\"/content/sample_data/Imgdirty_1001_1.jpg\", save=True, show=True)"
      ],
      "metadata": {
        "colab": {
          "base_uri": "https://localhost:8080/"
        },
        "id": "i_DKqOSkAG2C",
        "outputId": "87c94a40-0b4c-4b28-bab9-1a1980291630"
      },
      "execution_count": null,
      "outputs": [
        {
          "output_type": "stream",
          "name": "stdout",
          "text": [
            "WARNING ⚠️ Environment does not support cv2.imshow() or PIL Image.show()\n",
            "\n",
            "\n",
            "image 1/1 /content/sample_data/Imgdirty_1001_1.jpg: 448x640 15 Sujas, 174.4ms\n",
            "Speed: 3.3ms preprocess, 174.4ms inference, 1.1ms postprocess per image at shape (1, 3, 448, 640)\n",
            "Results saved to \u001b[1mruns/detect/predict6\u001b[0m\n"
          ]
        }
      ]
    }
  ]
}